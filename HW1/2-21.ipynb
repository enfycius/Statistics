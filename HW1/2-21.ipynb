{
 "cells": [
  {
   "cell_type": "code",
   "execution_count": 219,
   "metadata": {},
   "outputs": [],
   "source": [
    "import pandas as pd"
   ]
  },
  {
   "cell_type": "code",
   "execution_count": 220,
   "metadata": {},
   "outputs": [],
   "source": [
    "df = pd.DataFrame({'Age': [36, 48, 50, 44, 29, 40, 38, \n",
    "53, 40, 52, 53, 40, 43, 33, 36, 41, 29, 38, 37, 41, 46,\n",
    "26, 31, 45, 39, 49, 46, 33, 51, 48, 32, 28, 40, 49, 41,\n",
    "37, 26, 39, 35, 40]})"
   ]
  },
  {
   "cell_type": "code",
   "execution_count": 221,
   "metadata": {},
   "outputs": [],
   "source": [
    "import matplotlib.pyplot as plt\n",
    "import numpy as np"
   ]
  },
  {
   "cell_type": "code",
   "execution_count": 222,
   "metadata": {},
   "outputs": [
    {
     "data": {
      "text/plain": [
       "Age    26\n",
       "dtype: int64"
      ]
     },
     "execution_count": 222,
     "metadata": {},
     "output_type": "execute_result"
    }
   ],
   "source": [
    "df.min()"
   ]
  },
  {
   "cell_type": "code",
   "execution_count": 223,
   "metadata": {},
   "outputs": [
    {
     "data": {
      "text/plain": [
       "Age    53\n",
       "dtype: int64"
      ]
     },
     "execution_count": 223,
     "metadata": {},
     "output_type": "execute_result"
    }
   ],
   "source": [
    "df.max()"
   ]
  },
  {
   "cell_type": "markdown",
   "metadata": {},
   "source": [
    "### 계급수가 5일 때"
   ]
  },
  {
   "cell_type": "code",
   "execution_count": 224,
   "metadata": {},
   "outputs": [
    {
     "data": {
      "image/png": "[encoded data removed]",
      "text/plain": [
       "<Figure size 432x288 with 1 Axes>"
      ]
     },
     "metadata": {
      "needs_background": "light"
     },
     "output_type": "display_data"
    }
   ],
   "source": [
    "plt.hist(df['Age'], bins=np.arange(25, 60, 6), range=(df.min()[0], df.max()[0]+1), edgecolor='black', linewidth=1)\n",
    "plt.xticks(np.arange(25, 60, 6))\n",
    "plt.xlim(20, 60)\n",
    "plt.savefig(\"./5.png\")"
   ]
  },
  {
   "cell_type": "code",
   "execution_count": 225,
   "metadata": {},
   "outputs": [],
   "source": [
    "df = df.sort_values(by='Age', axis=0, ascending=True)"
   ]
  },
  {
   "cell_type": "code",
   "execution_count": 226,
   "metadata": {},
   "outputs": [],
   "source": [
    "bins = list(np.arange(25, 60, 6))"
   ]
  },
  {
   "cell_type": "code",
   "execution_count": 227,
   "metadata": {},
   "outputs": [],
   "source": [
    "labels = ['25~31', '31~37', '37~43', '43~49', '49~55']"
   ]
  },
  {
   "cell_type": "code",
   "execution_count": 228,
   "metadata": {},
   "outputs": [],
   "source": [
    "hist = pd.DataFrame(pd.cut(df['Age'], bins=bins, right=False, labels=labels)).rename(columns={'Age' : '계급'})"
   ]
  },
  {
   "cell_type": "code",
   "execution_count": 229,
   "metadata": {},
   "outputs": [],
   "source": [
    "table_count = hist.value_counts(sort=False)"
   ]
  },
  {
   "cell_type": "code",
   "execution_count": 230,
   "metadata": {},
   "outputs": [],
   "source": [
    "table = table_count.rename_axis('계급').reset_index(name='도수')"
   ]
  },
  {
   "cell_type": "code",
   "execution_count": 231,
   "metadata": {},
   "outputs": [
    {
     "data": {
      "text/html": [
       "<style  type=\"text/css\" >\n",
       "</style><table id=\"T_4a5bf6a8_a2f2_11ec_b1ca_0242ac110002\" ><thead>    <tr>        <th class=\"col_heading level0 col0\" >계급</th>        <th class=\"col_heading level0 col1\" >도수</th>    </tr></thead><tbody>\n",
       "                <tr>\n",
       "                                <td id=\"T_4a5bf6a8_a2f2_11ec_b1ca_0242ac110002row0_col0\" class=\"data row0 col0\" >25~31</td>\n",
       "                        <td id=\"T_4a5bf6a8_a2f2_11ec_b1ca_0242ac110002row0_col1\" class=\"data row0 col1\" >5</td>\n",
       "            </tr>\n",
       "            <tr>\n",
       "                                <td id=\"T_4a5bf6a8_a2f2_11ec_b1ca_0242ac110002row1_col0\" class=\"data row1 col0\" >31~37</td>\n",
       "                        <td id=\"T_4a5bf6a8_a2f2_11ec_b1ca_0242ac110002row1_col1\" class=\"data row1 col1\" >7</td>\n",
       "            </tr>\n",
       "            <tr>\n",
       "                                <td id=\"T_4a5bf6a8_a2f2_11ec_b1ca_0242ac110002row2_col0\" class=\"data row2 col0\" >37~43</td>\n",
       "                        <td id=\"T_4a5bf6a8_a2f2_11ec_b1ca_0242ac110002row2_col1\" class=\"data row2 col1\" >14</td>\n",
       "            </tr>\n",
       "            <tr>\n",
       "                                <td id=\"T_4a5bf6a8_a2f2_11ec_b1ca_0242ac110002row3_col0\" class=\"data row3 col0\" >43~49</td>\n",
       "                        <td id=\"T_4a5bf6a8_a2f2_11ec_b1ca_0242ac110002row3_col1\" class=\"data row3 col1\" >7</td>\n",
       "            </tr>\n",
       "            <tr>\n",
       "                                <td id=\"T_4a5bf6a8_a2f2_11ec_b1ca_0242ac110002row4_col0\" class=\"data row4 col0\" >49~55</td>\n",
       "                        <td id=\"T_4a5bf6a8_a2f2_11ec_b1ca_0242ac110002row4_col1\" class=\"data row4 col1\" >7</td>\n",
       "            </tr>\n",
       "    </tbody></table>"
      ],
      "text/plain": [
       "<pandas.io.formats.style.Styler at 0x7fe28ad66f98>"
      ]
     },
     "execution_count": 231,
     "metadata": {},
     "output_type": "execute_result"
    }
   ],
   "source": [
    "table.style.hide_index()"
   ]
  },
  {
   "cell_type": "code",
   "execution_count": 261,
   "metadata": {},
   "outputs": [
    {
     "name": "stdout",
     "output_type": "stream",
     "text": [
      "/usr/lib/python3/dist-packages/secretstorage/dhcrypto.py:15: CryptographyDeprecationWarning: int_from_bytes is deprecated, use int.from_bytes instead\n",
      "  from cryptography.utils import int_from_bytes\n",
      "/usr/lib/python3/dist-packages/secretstorage/util.py:19: CryptographyDeprecationWarning: int_from_bytes is deprecated, use int.from_bytes instead\n",
      "  from cryptography.utils import int_from_bytes\n",
      "Requirement already satisfied: dataframe-image in /usr/local/lib/python3.6/dist-packages (0.1.1)\n",
      "Requirement already satisfied: requests in /usr/local/lib/python3.6/dist-packages (from dataframe-image) (2.22.0)\n",
      "Requirement already satisfied: nbconvert>=5 in /usr/local/lib/python3.6/dist-packages (from dataframe-image) (5.6.1)\n",
      "Requirement already satisfied: pandas>=0.24 in /usr/local/lib/python3.6/dist-packages (from dataframe-image) (1.1.5)\n",
      "Requirement already satisfied: aiohttp in /usr/local/lib/python3.6/dist-packages (from dataframe-image) (3.8.1)\n",
      "Requirement already satisfied: matplotlib>=3.1 in /usr/local/lib/python3.6/dist-packages (from dataframe-image) (3.1.2)\n",
      "Requirement already satisfied: beautifulsoup4 in /usr/local/lib/python3.6/dist-packages (from dataframe-image) (4.10.0)\n",
      "Requirement already satisfied: idna<2.9,>=2.5 in /usr/lib/python3/dist-packages (from requests->dataframe-image) (2.6)\n",
      "Requirement already satisfied: urllib3!=1.25.0,!=1.25.1,<1.26,>=1.21.1 in /usr/local/lib/python3.6/dist-packages (from requests->dataframe-image) (1.25.7)\n",
      "Requirement already satisfied: chardet<3.1.0,>=3.0.2 in /usr/local/lib/python3.6/dist-packages (from requests->dataframe-image) (3.0.4)\n",
      "Requirement already satisfied: certifi>=2017.4.17 in /usr/local/lib/python3.6/dist-packages (from requests->dataframe-image) (2019.11.28)\n",
      "Requirement already satisfied: mistune<2,>=0.8.1 in /usr/local/lib/python3.6/dist-packages (from nbconvert>=5->dataframe-image) (0.8.4)\n",
      "Requirement already satisfied: bleach in /usr/local/lib/python3.6/dist-packages (from nbconvert>=5->dataframe-image) (3.1.0)\n",
      "Requirement already satisfied: nbformat>=4.4 in /usr/local/lib/python3.6/dist-packages (from nbconvert>=5->dataframe-image) (5.0.3)\n",
      "Requirement already satisfied: pandocfilters>=1.4.1 in /usr/local/lib/python3.6/dist-packages (from nbconvert>=5->dataframe-image) (1.4.2)\n",
      "Requirement already satisfied: pygments in /usr/local/lib/python3.6/dist-packages (from nbconvert>=5->dataframe-image) (2.5.2)\n",
      "Requirement already satisfied: testpath in /usr/local/lib/python3.6/dist-packages (from nbconvert>=5->dataframe-image) (0.4.4)\n",
      "Requirement already satisfied: jupyter-core in /usr/local/lib/python3.6/dist-packages (from nbconvert>=5->dataframe-image) (4.6.1)\n",
      "Requirement already satisfied: entrypoints>=0.2.2 in /usr/local/lib/python3.6/dist-packages (from nbconvert>=5->dataframe-image) (0.3)\n",
      "Requirement already satisfied: defusedxml in /usr/local/lib/python3.6/dist-packages (from nbconvert>=5->dataframe-image) (0.6.0)\n",
      "Requirement already satisfied: traitlets>=4.2 in /usr/local/lib/python3.6/dist-packages (from nbconvert>=5->dataframe-image) (4.3.3)\n",
      "Requirement already satisfied: jinja2>=2.4 in /usr/local/lib/python3.6/dist-packages (from nbconvert>=5->dataframe-image) (2.10.3)\n",
      "Requirement already satisfied: numpy>=1.15.4 in /usr/local/lib/python3.6/dist-packages (from pandas>=0.24->dataframe-image) (1.18.1)\n",
      "Requirement already satisfied: pytz>=2017.2 in /usr/local/lib/python3.6/dist-packages (from pandas>=0.24->dataframe-image) (2021.3)\n",
      "Requirement already satisfied: python-dateutil>=2.7.3 in /usr/local/lib/python3.6/dist-packages (from pandas>=0.24->dataframe-image) (2.8.1)\n",
      "Requirement already satisfied: attrs>=17.3.0 in /usr/local/lib/python3.6/dist-packages (from aiohttp->dataframe-image) (19.3.0)\n",
      "Requirement already satisfied: async-timeout<5.0,>=4.0.0a3 in /usr/local/lib/python3.6/dist-packages (from aiohttp->dataframe-image) (4.0.2)\n",
      "Requirement already satisfied: typing-extensions>=3.7.4; python_version < \"3.8\" in /usr/local/lib/python3.6/dist-packages (from aiohttp->dataframe-image) (4.1.1)\n",
      "Requirement already satisfied: yarl<2.0,>=1.0 in /usr/local/lib/python3.6/dist-packages (from aiohttp->dataframe-image) (1.7.2)\n",
      "Requirement already satisfied: charset-normalizer<3.0,>=2.0 in /usr/local/lib/python3.6/dist-packages (from aiohttp->dataframe-image) (2.0.12)\n",
      "Requirement already satisfied: frozenlist>=1.1.1 in /usr/local/lib/python3.6/dist-packages (from aiohttp->dataframe-image) (1.2.0)\n",
      "Requirement already satisfied: aiosignal>=1.1.2 in /usr/local/lib/python3.6/dist-packages (from aiohttp->dataframe-image) (1.2.0)\n",
      "Requirement already satisfied: asynctest==0.13.0; python_version < \"3.8\" in /usr/local/lib/python3.6/dist-packages (from aiohttp->dataframe-image) (0.13.0)\n",
      "Requirement already satisfied: idna-ssl>=1.0; python_version < \"3.7\" in /usr/local/lib/python3.6/dist-packages (from aiohttp->dataframe-image) (1.1.0)\n",
      "Requirement already satisfied: multidict<7.0,>=4.5 in /usr/local/lib/python3.6/dist-packages (from aiohttp->dataframe-image) (5.2.0)\n",
      "Requirement already satisfied: pyparsing!=2.0.4,!=2.1.2,!=2.1.6,>=2.0.1 in /usr/local/lib/python3.6/dist-packages (from matplotlib>=3.1->dataframe-image) (2.4.6)\n",
      "Requirement already satisfied: cycler>=0.10 in /usr/local/lib/python3.6/dist-packages (from matplotlib>=3.1->dataframe-image) (0.10.0)\n",
      "Requirement already satisfied: kiwisolver>=1.0.1 in /usr/local/lib/python3.6/dist-packages (from matplotlib>=3.1->dataframe-image) (1.1.0)\n",
      "Requirement already satisfied: soupsieve>1.2 in /usr/local/lib/python3.6/dist-packages (from beautifulsoup4->dataframe-image) (2.3.1)\n",
      "Requirement already satisfied: six>=1.9.0 in /usr/local/lib/python3.6/dist-packages (from bleach->nbconvert>=5->dataframe-image) (1.13.0)\n",
      "Requirement already satisfied: webencodings in /usr/local/lib/python3.6/dist-packages (from bleach->nbconvert>=5->dataframe-image) (0.5.1)\n",
      "Requirement already satisfied: ipython-genutils in /usr/local/lib/python3.6/dist-packages (from nbformat>=4.4->nbconvert>=5->dataframe-image) (0.2.0)\n",
      "Requirement already satisfied: jsonschema!=2.5.0,>=2.4 in /usr/local/lib/python3.6/dist-packages (from nbformat>=4.4->nbconvert>=5->dataframe-image) (3.2.0)\n",
      "Requirement already satisfied: decorator in /usr/local/lib/python3.6/dist-packages (from traitlets>=4.2->nbconvert>=5->dataframe-image) (4.4.1)\n",
      "Requirement already satisfied: MarkupSafe>=0.23 in /usr/local/lib/python3.6/dist-packages (from jinja2>=2.4->nbconvert>=5->dataframe-image) (1.1.1)\n",
      "Requirement already satisfied: setuptools in /usr/local/lib/python3.6/dist-packages (from kiwisolver>=1.0.1->matplotlib>=3.1->dataframe-image) (44.0.0)\n",
      "Requirement already satisfied: pyrsistent>=0.14.0 in /usr/local/lib/python3.6/dist-packages (from jsonschema!=2.5.0,>=2.4->nbformat>=4.4->nbconvert>=5->dataframe-image) (0.15.7)\n",
      "Requirement already satisfied: importlib-metadata; python_version < \"3.8\" in /usr/local/lib/python3.6/dist-packages (from jsonschema!=2.5.0,>=2.4->nbformat>=4.4->nbconvert>=5->dataframe-image) (1.4.0)\n",
      "Requirement already satisfied: zipp>=0.5 in /usr/local/lib/python3.6/dist-packages (from importlib-metadata; python_version < \"3.8\"->jsonschema!=2.5.0,>=2.4->nbformat>=4.4->nbconvert>=5->dataframe-image) (0.6.0)\n",
      "Requirement already satisfied: more-itertools in /usr/local/lib/python3.6/dist-packages (from zipp>=0.5->importlib-metadata; python_version < \"3.8\"->jsonschema!=2.5.0,>=2.4->nbformat>=4.4->nbconvert>=5->dataframe-image) (8.0.2)\n",
      "\u001b[33mWARNING: You are using pip version 19.3.1; however, version 21.3.1 is available.\n",
      "You should consider upgrading via the 'pip install --upgrade pip' command.\u001b[0m\n"
     ]
    }
   ],
   "source": [
    "!pip3 install dataframe-image"
   ]
  },
  {
   "cell_type": "code",
   "execution_count": 265,
   "metadata": {},
   "outputs": [
    {
     "name": "stdout",
     "output_type": "stream",
     "text": [
      "Reading package lists... Done\n",
      "Building dependency tree       \n",
      "Reading state information... Done\n",
      "The following additional packages will be installed:\n",
      "  at-spi2-core chromium-browser chromium-browser-l10n\n",
      "  chromium-codecs-ffmpeg-extra fontconfig fontconfig-config fonts-dejavu-core\n",
      "  libasound2 libasound2-data libatk-bridge2.0-0 libatk1.0-0 libatk1.0-data\n",
      "  libatspi2.0-0 libauthen-sasl-perl libavahi-client3 libavahi-common-data\n",
      "  libavahi-common3 libcairo2 libcups2 libdata-dump-perl libdatrie1\n",
      "  libdrm-amdgpu1 libdrm-common libdrm-intel1 libdrm-nouveau2 libdrm-radeon1\n",
      "  libdrm2 libelf1 libencode-locale-perl libfile-basedir-perl\n",
      "  libfile-desktopentry-perl libfile-listing-perl libfile-mimeinfo-perl\n",
      "  libfont-afm-perl libfontconfig1 libfontenc1 libgbm1 libgl1 libgl1-mesa-dri\n",
      "  libgl1-mesa-glx libglapi-mesa libglvnd0 libglx-mesa0 libglx0\n",
      "  libhtml-form-perl libhtml-format-perl libhtml-parser-perl\n",
      "  libhtml-tagset-perl libhtml-tree-perl libhttp-cookies-perl\n",
      "  libhttp-daemon-perl libhttp-date-perl libhttp-message-perl\n",
      "  libhttp-negotiate-perl libice6 libicu60 libio-html-perl\n",
      "  libio-socket-ssl-perl libipc-system-simple-perl libllvm10\n",
      "  liblwp-mediatypes-perl liblwp-protocol-https-perl libmailtools-perl\n",
      "  libnet-dbus-perl libnet-http-perl libnet-smtp-ssl-perl libnet-ssleay-perl\n",
      "  libnspr4 libnss3 libpango-1.0-0 libpciaccess0 libpixman-1-0 libsensors4\n",
      "  libsm6 libtext-iconv-perl libthai-data libthai0 libtie-ixhash-perl\n",
      "  libtimedate-perl libtry-tiny-perl liburi-perl libwayland-server0 libwww-perl\n",
      "  libwww-robotrules-perl libx11-protocol-perl libx11-xcb1 libxaw7\n",
      "  libxcb-dri2-0 libxcb-dri3-0 libxcb-glx0 libxcb-present0 libxcb-render0\n",
      "  libxcb-shape0 libxcb-shm0 libxcb-sync1 libxcomposite1 libxcursor1\n",
      "  libxdamage1 libxfixes3 libxft2 libxi6 libxinerama1 libxkbcommon0\n",
      "  libxml-parser-perl libxml-twig-perl libxml-xpathengine-perl libxml2 libxmu6\n",
      "  libxpm4 libxrandr2 libxrender1 libxshmfence1 libxt6 libxtst6 libxv1\n",
      "  libxxf86dga1 libxxf86vm1 netbase perl-openssl-defaults shared-mime-info ucf\n",
      "  x11-common x11-utils x11-xserver-utils xdg-utils xkb-data\n",
      "Suggested packages:\n",
      "  webaccounts-chromium-extension unity-chromium-extension libasound2-plugins\n",
      "  alsa-utils libdigest-hmac-perl libgssapi-perl cups-common\n",
      "  libcrypt-ssleay-perl pciutils lm-sensors libauthen-ntlm-perl\n",
      "  libunicode-map8-perl libunicode-string-perl xml-twig-tools mesa-utils nickle\n",
      "  cairo-5c xorg-docs-core\n",
      "The following NEW packages will be installed:\n",
      "  at-spi2-core chromium-browser chromium-browser-l10n chromium-chromedriver\n",
      "  chromium-codecs-ffmpeg-extra fontconfig fontconfig-config fonts-dejavu-core\n",
      "  libasound2 libasound2-data libatk-bridge2.0-0 libatk1.0-0 libatk1.0-data\n",
      "  libatspi2.0-0 libauthen-sasl-perl libavahi-client3 libavahi-common-data\n",
      "  libavahi-common3 libcairo2 libcups2 libdata-dump-perl libdatrie1\n",
      "  libdrm-amdgpu1 libdrm-common libdrm-intel1 libdrm-nouveau2 libdrm-radeon1\n",
      "  libdrm2 libelf1 libencode-locale-perl libfile-basedir-perl\n",
      "  libfile-desktopentry-perl libfile-listing-perl libfile-mimeinfo-perl\n",
      "  libfont-afm-perl libfontconfig1 libfontenc1 libgbm1 libgl1 libgl1-mesa-dri\n",
      "  libgl1-mesa-glx libglapi-mesa libglvnd0 libglx-mesa0 libglx0\n",
      "  libhtml-form-perl libhtml-format-perl libhtml-parser-perl\n",
      "  libhtml-tagset-perl libhtml-tree-perl libhttp-cookies-perl\n",
      "  libhttp-daemon-perl libhttp-date-perl libhttp-message-perl\n",
      "  libhttp-negotiate-perl libice6 libicu60 libio-html-perl\n",
      "  libio-socket-ssl-perl libipc-system-simple-perl libllvm10\n",
      "  liblwp-mediatypes-perl liblwp-protocol-https-perl libmailtools-perl\n",
      "  libnet-dbus-perl libnet-http-perl libnet-smtp-ssl-perl libnet-ssleay-perl\n",
      "  libnspr4 libnss3 libpango-1.0-0 libpciaccess0 libpixman-1-0 libsensors4\n",
      "  libsm6 libtext-iconv-perl libthai-data libthai0 libtie-ixhash-perl\n",
      "  libtimedate-perl libtry-tiny-perl liburi-perl libwayland-server0 libwww-perl\n",
      "  libwww-robotrules-perl libx11-protocol-perl libx11-xcb1 libxaw7\n",
      "  libxcb-dri2-0 libxcb-dri3-0 libxcb-glx0 libxcb-present0 libxcb-render0\n",
      "  libxcb-shape0 libxcb-shm0 libxcb-sync1 libxcomposite1 libxcursor1\n",
      "  libxdamage1 libxfixes3 libxft2 libxi6 libxinerama1 libxkbcommon0\n",
      "  libxml-parser-perl libxml-twig-perl libxml-xpathengine-perl libxml2 libxmu6\n",
      "  libxpm4 libxrandr2 libxrender1 libxshmfence1 libxt6 libxtst6 libxv1\n",
      "  libxxf86dga1 libxxf86vm1 netbase perl-openssl-defaults shared-mime-info ucf\n",
      "  x11-common x11-utils x11-xserver-utils xdg-utils xkb-data\n",
      "0 upgraded, 127 newly installed, 0 to remove and 130 not upgraded.\n",
      "Need to get 132 MB of archives.\n",
      "After this operation, 690 MB of additional disk space will be used.\n",
      "Get:1 http://archive.ubuntu.com/ubuntu bionic-updates/main amd64 libasound2-data all 1.1.3-5ubuntu0.6 [38.5 kB]\n",
      "Get:2 http://archive.ubuntu.com/ubuntu bionic-updates/main amd64 libasound2 amd64 1.1.3-5ubuntu0.6 [360 kB]\n",
      "Get:3 http://archive.ubuntu.com/ubuntu bionic/main amd64 libatk1.0-data all 2.28.1-1 [2992 B]\n",
      "Get:4 http://archive.ubuntu.com/ubuntu bionic/main amd64 libatk1.0-0 amd64 2.28.1-1 [43.9 kB]\n",
      "Get:5 http://archive.ubuntu.com/ubuntu bionic/main amd64 libatspi2.0-0 amd64 2.28.0-1 [59.6 kB]\n",
      "Get:6 http://archive.ubuntu.com/ubuntu bionic/main amd64 libatk-bridge2.0-0 amd64 2.26.2-1 [57.3 kB]\n",
      "Get:7 http://archive.ubuntu.com/ubuntu bionic/main amd64 ucf all 3.0038 [50.5 kB]\n",
      "Get:8 http://archive.ubuntu.com/ubuntu bionic/main amd64 fonts-dejavu-core all 2.37-1 [1041 kB]\n",
      "Get:9 http://archive.ubuntu.com/ubuntu bionic/main amd64 fontconfig-config all 2.12.6-0ubuntu2 [55.8 kB]\n",
      "Get:10 http://archive.ubuntu.com/ubuntu bionic/main amd64 libfontconfig1 amd64 2.12.6-0ubuntu2 [137 kB]\n",
      "Get:11 http://archive.ubuntu.com/ubuntu bionic/main amd64 libpixman-1-0 amd64 0.34.0-2 [229 kB]\n",
      "Get:12 http://archive.ubuntu.com/ubuntu bionic-updates/main amd64 libxcb-render0 amd64 1.13-2~ubuntu18.04 [14.7 kB]\n",
      "Get:13 http://archive.ubuntu.com/ubuntu bionic-updates/main amd64 libxcb-shm0 amd64 1.13-2~ubuntu18.04 [5600 B]\n",
      "Get:14 http://archive.ubuntu.com/ubuntu bionic/main amd64 libxrender1 amd64 1:0.9.10-1 [18.7 kB]\n",
      "Get:15 http://archive.ubuntu.com/ubuntu bionic-updates/main amd64 libcairo2 amd64 1.15.10-2ubuntu0.1 [580 kB]\n",
      "Get:16 http://archive.ubuntu.com/ubuntu bionic-updates/main amd64 libavahi-common-data amd64 0.7-3.1ubuntu1.3 [22.2 kB]\n",
      "Get:17 http://archive.ubuntu.com/ubuntu bionic-updates/main amd64 libavahi-common3 amd64 0.7-3.1ubuntu1.3 [21.6 kB]\n",
      "Get:18 http://archive.ubuntu.com/ubuntu bionic-updates/main amd64 libavahi-client3 amd64 0.7-3.1ubuntu1.3 [25.2 kB]\n",
      "Get:19 http://archive.ubuntu.com/ubuntu bionic-updates/main amd64 libcups2 amd64 2.2.7-1ubuntu2.8 [211 kB]\n",
      "Get:20 http://archive.ubuntu.com/ubuntu bionic-updates/main amd64 libdrm-common all 2.4.101-2~18.04.1 [5560 B]\n",
      "Get:21 http://archive.ubuntu.com/ubuntu bionic-updates/main amd64 libdrm2 amd64 2.4.101-2~18.04.1 [32.3 kB]\n",
      "Get:22 http://archive.ubuntu.com/ubuntu bionic-updates/main amd64 libwayland-server0 amd64 1.16.0-1ubuntu1.1~18.04.3 [29.6 kB]\n",
      "Get:23 http://archive.ubuntu.com/ubuntu bionic-updates/main amd64 libgbm1 amd64 20.0.8-0ubuntu1~18.04.1 [27.6 kB]\n",
      "Get:24 http://archive.ubuntu.com/ubuntu bionic/main amd64 libnspr4 amd64 2:4.18-1ubuntu1 [112 kB]\n",
      "Get:25 http://archive.ubuntu.com/ubuntu bionic-updates/main amd64 libnss3 amd64 2:3.35-2ubuntu2.13 [1220 kB]\n",
      "Get:26 http://archive.ubuntu.com/ubuntu bionic/main amd64 fontconfig amd64 2.12.6-0ubuntu2 [169 kB][33m\u001b[33m\u001b[33m\u001b[33m\u001b[33m\u001b[33m\n",
      "Get:27 http://archive.ubuntu.com/ubuntu bionic/main amd64 libthai-data all 0.1.27-2 [133 kB]m\n",
      "Get:28 http://archive.ubuntu.com/ubuntu bionic/main amd64 libdatrie1 amd64 0.2.10-7 [17.8 kB]\n",
      "Get:29 http://archive.ubuntu.com/ubuntu bionic/main amd64 libthai0 amd64 0.1.27-2 [18.0 kB]\n",
      "Get:30 http://archive.ubuntu.com/ubuntu bionic-updates/main amd64 libpango-1.0-0 amd64 1.40.14-1ubuntu0.1 [153 kB]\n",
      "Get:31 http://archive.ubuntu.com/ubuntu bionic/main amd64 libxcomposite1 amd64 1:0.4.4-2 [6988 B]\n",
      "Get:32 http://archive.ubuntu.com/ubuntu bionic/main amd64 libxdamage1 amd64 1:1.1.4-3 [6934 B]\n",
      "Get:33 http://archive.ubuntu.com/ubuntu bionic/main amd64 libxfixes3 amd64 1:5.0.3-1 [10.8 kB]\n",
      "Get:34 http://archive.ubuntu.com/ubuntu bionic-updates/main amd64 xkb-data all 2.23.1-1ubuntu1.18.04.1 [325 kB]\n",
      "Get:35 http://archive.ubuntu.com/ubuntu bionic-updates/main amd64 libxkbcommon0 amd64 0.8.2-1~ubuntu18.04.1 [97.8 kB]\n",
      "Get:36 http://archive.ubuntu.com/ubuntu bionic/main amd64 libxrandr2 amd64 2:1.5.1-1 [18.1 kB]\n",
      "Get:37 http://archive.ubuntu.com/ubuntu bionic-updates/main amd64 x11-common all 1:7.7+19ubuntu7.1 [22.5 kB]\n",
      "Get:38 http://archive.ubuntu.com/ubuntu bionic/main amd64 libxtst6 amd64 2:1.2.3-1 [12.8 kB]\n",
      "Get:39 http://archive.ubuntu.com/ubuntu bionic-updates/main amd64 libx11-xcb1 amd64 2:1.6.4-3ubuntu0.4 [9720 B]\n",
      "Get:40 http://archive.ubuntu.com/ubuntu bionic-updates/main amd64 xdg-utils all 1.1.2-1ubuntu2.5 [60.4 kB]\n",
      "Get:41 http://archive.ubuntu.com/ubuntu bionic-updates/universe amd64 chromium-codecs-ffmpeg-extra amd64 99.0.4844.51-0ubuntu0.18.04.1 [1143 kB]\n",
      "Get:42 http://archive.ubuntu.com/ubuntu bionic-updates/universe amd64 chromium-browser amd64 99.0.4844.51-0ubuntu0.18.04.1 [77.6 MB]m\n",
      "Get:43 http://archive.ubuntu.com/ubuntu bionic-updates/universe amd64 chromium-browser-l10n all 99.0.4844.51-0ubuntu0.18.04.1 [4388 kB]33m\u001b[33m\u001b[33m\u001b[33m\u001b[33m\u001b[33m\u001b[33m\u001b[33m\u001b[33m\u001b[33m\u001b[33m\u001b[33m\u001b[33m\u001b[33m\u001b[33m\u001b[33m\u001b[33m\u001b[33m\u001b[33m\u001b[33m\u001b[33m\u001b[33m\u001b[33m\u001b[33m\u001b[33m\u001b[33m\u001b[33m\u001b[33m\u001b[33m\u001b[33m\u001b[33m\u001b[33m\u001b[33m\u001b[33m\u001b[33m\u001b[33m\u001b[33m\u001b[33m\u001b[33m\u001b[33m\u001b[33m\u001b[33m\u001b[33m\u001b[33m\u001b[33m\u001b[33m\u001b[33m\u001b[33m\u001b[33m\u001b[33m\u001b[33m\u001b[33m\u001b[33m\u001b[33m\u001b[33m\u001b[33m\u001b[33m\u001b[33m\u001b[33m\u001b[33m\u001b[33m\u001b[33m\u001b[33m\u001b[33m\u001b[33m\u001b[33m\u001b[33m\u001b[33m\u001b[33m\u001b[33m\u001b[33m\u001b[33m\u001b[33m\u001b[33m\u001b[33m\u001b[33m\u001b[33m\u001b[33m\u001b[33m\u001b[33m\u001b[33m\u001b[33m\u001b[33m\u001b[33m\u001b[33m\u001b[33m\u001b[33m\u001b[33m\u001b[33m\u001b[33m\u001b[33m\u001b[33m\u001b[33m\u001b[33m\u001b[33m\u001b[33m\u001b[33m\u001b[33m\u001b[33m\u001b[33m\u001b[33m\u001b[33m\u001b[33m\u001b[33m\u001b[33m\u001b[33m\u001b[33m\u001b[33m\u001b[33m\u001b[33m\u001b[33m\u001b[33m\u001b[33m\u001b[33m\u001b[33m\u001b[33m\u001b[33m\u001b[33m\u001b[33m\u001b[33m\u001b[33m\u001b[33m\u001b[33m\u001b[33m\u001b[33m\u001b[33m\u001b[33m\u001b[33m\u001b[33m\u001b[33m\u001b[33m\u001b[33m\u001b[33m\u001b[33m\u001b[33m\u001b[33m\u001b[33m\u001b[33m\u001b[33m\u001b[33m\u001b[33m\u001b[33m\u001b[33m\u001b[33m\u001b[33m\u001b[33m\u001b[33m\u001b[33m\u001b[33m\u001b[33m\u001b[33m\u001b[33m\u001b[33m\u001b[33m\u001b[33m\u001b[33m\u001b[33m\u001b[33m\u001b[33m\u001b[33m\u001b[33m\u001b[33m\u001b[33m\u001b[33m\u001b[33m\u001b[33m\u001b[33m\u001b[33m\u001b[33m\u001b[33m\u001b[33m\u001b[33m\u001b[33m\u001b[33m\u001b[33m\u001b[33m\u001b[33m\u001b[33m\u001b[33m\u001b[33m\u001b[33m\u001b[33m\u001b[33m\u001b[33m\u001b[33m\u001b[33m\u001b[33m\u001b[33m\u001b[33m\u001b[33m\u001b[33m\u001b[33m\u001b[33m\u001b[33m\u001b[33m\u001b[33m\u001b[33m\u001b[33m\u001b[33m\u001b[33m\u001b[33m\u001b[33m\u001b[33m\u001b[33m\u001b[33m\u001b[33m\u001b[33m\u001b[33m\u001b[33m\u001b[33m\u001b[33m\u001b[33m\u001b[33m\u001b[33m\u001b[33m\u001b[33m\u001b[33m\u001b[33m\u001b[33m\u001b[33m\u001b[33m\u001b[33m\u001b[33m\u001b[33m\u001b[33m\u001b[33m\u001b[33m\u001b[33m\u001b[33m\u001b[33m\u001b[33m\u001b[33m\u001b[33m\u001b[33m\u001b[33m\u001b[33m\u001b[33m\u001b[33m\u001b[33m\u001b[33m\u001b[33m\u001b[33m\u001b[33m\u001b[33m\u001b[33m\u001b[33m\u001b[33m\u001b[33m\u001b[33m\u001b[33m\u001b[33m\u001b[33m\u001b[33m\u001b[33m\u001b[33m\u001b[33m\u001b[33m\u001b[33m\u001b[33m\u001b[33m\u001b[33m\u001b[33m\u001b[33m\u001b[33m\u001b[33m\u001b[33m\u001b[33m\u001b[33m\u001b[33m\u001b[33m\u001b[33m\u001b[33m\u001b[33m\u001b[33m\u001b[33m\u001b[33m\u001b[33m\u001b[33m\u001b[33m\u001b[33m\u001b[33m\u001b[33m\u001b[33m\u001b[33m\u001b[33m\u001b[33m\u001b[33m\u001b[33m\u001b[33m\u001b[33m\u001b[33m\u001b[33m\u001b[33m\u001b[33m\u001b[33m\u001b[33m\u001b[33m\u001b[33m\u001b[33m\u001b[33m\u001b[33m\u001b[33m\u001b[33m\u001b[33m\u001b[33m\u001b[33m\u001b[33m\u001b[33m\u001b[33m\u001b[33m\u001b[33m\u001b[33m\u001b[33m\u001b[33m\u001b[33m\u001b[33m\u001b[33m\u001b[33m\u001b[33m\u001b[33m\u001b[33m\u001b[33m\u001b[33m\u001b[33m\u001b[33m\u001b[33m\u001b[33m\u001b[33m\u001b[33m\u001b[33m\u001b[33m\u001b[33m\u001b[33m\u001b[33m\u001b[33m\u001b[33m\u001b[33m\u001b[33m\u001b[33m\u001b[33m\u001b[33m\u001b[33m\u001b[33m\u001b[33m\u001b[33m\u001b[33m\u001b[33m\u001b[33m\u001b[33m\u001b[33m\u001b[33m\u001b[33m\u001b[33m\u001b[33m\u001b[33m\u001b[33m\u001b[33m\u001b[33m\u001b[33m\u001b[33m\u001b[33m\u001b[33m\u001b[33m\u001b[33m\u001b[33m\u001b[33m\u001b[33m\u001b[33m\u001b[33m\u001b[33m\u001b[33m\u001b[33m\u001b[33m\u001b[33m\u001b[33m\u001b[33m\u001b[33m\u001b[33m\u001b[33m\u001b[33m\u001b[33m\u001b[33m\u001b[33m\u001b[33m\u001b[33m\u001b[33m\u001b[33m\u001b[33m\u001b[33m\u001b[33m\u001b[33m\u001b[33m\u001b[33m\u001b[33m\u001b[33m\u001b[33m\u001b[33m\u001b[33m\u001b[33m\u001b[33m\u001b[33m\u001b[33m\u001b[33m\u001b[33m\u001b[33m\u001b[33m\u001b[33m\u001b[33m\u001b[33m\u001b[33m\u001b[33m\u001b[33m\u001b[33m\u001b[33m\u001b[33m\u001b[33m\u001b[33m\u001b[33m\u001b[33m\u001b[33m\u001b[33m\u001b[33m\u001b[33m\u001b[33m\u001b[33m\u001b[33m\u001b[33m\u001b[33m\u001b[33m\u001b[33m\u001b[33m\u001b[33m\u001b[33m\u001b[33m\u001b[33m\u001b[33m\u001b[33m\u001b[33m\u001b[33m\u001b[33m\u001b[33m\u001b[33m\u001b[33m\u001b[33m\u001b[33m\u001b[33m\u001b[33m\u001b[33m\u001b[33m\u001b[33m\u001b[33m\u001b[33m\u001b[33m\u001b[33m\u001b[33m\u001b[33m\u001b[33m\u001b[33m\u001b[33m\u001b[33m\u001b[33m\u001b[33m\u001b[33m\u001b[33m\u001b[33m\u001b[33m\u001b[33m\u001b[33m\u001b[33m\u001b[33m\u001b[33m\u001b[33m\u001b[33m\u001b[33m\u001b[33m\u001b[33m\u001b[33m\u001b[33m\u001b[33m\u001b[33m\u001b[33m\u001b[33m\u001b[33m\u001b[33m\u001b[33m\u001b[33m\u001b[33m\u001b[33m\u001b[33m\u001b[33m\u001b[33m\u001b[33m\u001b[33m\u001b[33m\u001b[33m\u001b[33m\u001b[33m\u001b[33m\u001b[33m\u001b[33m\u001b[33m\u001b[33m\u001b[33m\u001b[33m\u001b[33m\u001b[33m\u001b[33m\u001b[33m\u001b[33m\u001b[33m\u001b[33m\u001b[33m\u001b[33m\u001b[33m\u001b[33m\u001b[33m\u001b[33m\u001b[33m\u001b[33m\u001b[33m\u001b[33m\u001b[33m\u001b[33m\u001b[33m\u001b[33m\u001b[33m\u001b[33m\u001b[33m\u001b[33m\u001b[33m\u001b[33m\u001b[33m\u001b[33m\u001b[33m\u001b[33m\u001b[33m\u001b[33m\u001b[33m\u001b[33m\u001b[33m\u001b[33m\u001b[33m\u001b[33m\u001b[33m\u001b[33m\u001b[33m\u001b[33m\u001b[33m\u001b[33m\u001b[33m\u001b[33m\u001b[33m\u001b[33m\u001b[33m\u001b[33m\u001b[33m\u001b[33m\u001b[33m\u001b[33m\u001b[33m\u001b[33m\u001b[33m\u001b[33m\u001b[33m\u001b[33m\u001b[33m\u001b[33m\u001b[33m\u001b[33m\u001b[33m\u001b[33m\u001b[33m\u001b[33m\u001b[33m\u001b[33m\u001b[33m\n",
      "Get:44 http://archive.ubuntu.com/ubuntu bionic-updates/universe amd64 chromium-chromedriver amd64 99.0.4844.51-0ubuntu0.18.04.1 [5092 kB]m\u001b[33m\u001b[33m\u001b[33m\u001b[33m\u001b[33m\u001b[33m\u001b[33m\u001b[33m\u001b[33m\u001b[33m\u001b[33m\u001b[33m\u001b[33m\u001b[33m\u001b[33m\u001b[33m\u001b[33m\u001b[33m\u001b[33m\u001b[33m\u001b[33m\u001b[33m\n",
      "Get:45 http://archive.ubuntu.com/ubuntu bionic/main amd64 libice6 amd64 2:1.0.9-2 [40.2 kB]3m\u001b[33m\u001b[33m\u001b[33m\u001b[33m\u001b[33m\u001b[33m\u001b[33m\u001b[33m\u001b[33m\u001b[33m\u001b[33m\u001b[33m\u001b[33m\u001b[33m\u001b[33m\u001b[33m\u001b[33m\u001b[33m\u001b[33m\u001b[33m\u001b[33m\u001b[33m\u001b[33m\u001b[33m\u001b[33m\u001b[33m\u001b[33m\u001b[33m\u001b[33m\u001b[33m\u001b[33m\u001b[33m\u001b[33m\u001b[33m\u001b[33m\u001b[33m\u001b[33m\n",
      "Get:46 http://archive.ubuntu.com/ubuntu bionic/main amd64 libsm6 amd64 2:1.2.2-1 [15.8 kB]\n",
      "Get:47 http://archive.ubuntu.com/ubuntu bionic/main amd64 libxft2 amd64 2.3.2-1 [36.1 kB]\n",
      "Get:48 http://archive.ubuntu.com/ubuntu bionic/main amd64 libxinerama1 amd64 2:1.1.3-1 [7908 B]\n",
      "Get:49 http://archive.ubuntu.com/ubuntu bionic/main amd64 libxxf86dga1 amd64 2:1.1.4-1 [13.7 kB]\n",
      "Get:50 http://archive.ubuntu.com/ubuntu bionic/main amd64 libxxf86vm1 amd64 1:1.1.4-1 [10.6 kB]\n",
      "Get:51 http://archive.ubuntu.com/ubuntu bionic-updates/main amd64 libelf1 amd64 0.170-0.4ubuntu0.1 [44.8 kB]\n",
      "Get:52 http://archive.ubuntu.com/ubuntu bionic-updates/main amd64 libicu60 amd64 60.2-3ubuntu3.2 [8050 kB]\n",
      "Get:53 http://archive.ubuntu.com/ubuntu bionic/main amd64 libtext-iconv-perl amd64 1.7-5build6 [13.0 kB][33m\u001b[33m\u001b[33m\u001b[33m\u001b[33m\u001b[33m\u001b[33m\u001b[33m\u001b[33m\u001b[33m\u001b[33m\u001b[33m\u001b[33m\u001b[33m\u001b[33m\u001b[33m\u001b[33m\u001b[33m\u001b[33m\u001b[33m\u001b[33m\u001b[33m\u001b[33m\u001b[33m\u001b[33m\u001b[33m\u001b[33m\u001b[33m\u001b[33m\u001b[33m\u001b[33m\u001b[33m\u001b[33m\u001b[33m\u001b[33m\u001b[33m\u001b[33m\u001b[33m\u001b[33m\u001b[33m\u001b[33m\u001b[33m\u001b[33m\u001b[33m\u001b[33m\u001b[33m\u001b[33m\u001b[33m\u001b[33m\u001b[33m\u001b[33m\u001b[33m\u001b[33m\u001b[33m\u001b[33m\u001b[33m\u001b[33m\n",
      "Get:54 http://archive.ubuntu.com/ubuntu bionic-updates/main amd64 libxml2 amd64 2.9.4+dfsg1-6.1ubuntu1.4 [664 kB]\n",
      "Get:55 http://archive.ubuntu.com/ubuntu bionic/main amd64 netbase all 5.4 [12.7 kB]\u001b[33m\u001b[33m\u001b[33m\u001b[33m\u001b[33m\n",
      "Get:56 http://archive.ubuntu.com/ubuntu bionic/main amd64 shared-mime-info amd64 1.9-2 [426 kB]\n",
      "Get:57 http://archive.ubuntu.com/ubuntu bionic/main amd64 at-spi2-core amd64 2.28.0-1 [47.9 kB]33m\u001b[33m\n",
      "Get:58 http://archive.ubuntu.com/ubuntu bionic/main amd64 libdata-dump-perl all 1.23-1 [27.0 kB]\n",
      "Get:59 http://archive.ubuntu.com/ubuntu bionic-updates/main amd64 libdrm-amdgpu1 amd64 2.4.101-2~18.04.1 [18.2 kB]\n",
      "Get:60 http://archive.ubuntu.com/ubuntu bionic/main amd64 libpciaccess0 amd64 0.14-1 [17.9 kB]\n",
      "Get:61 http://archive.ubuntu.com/ubuntu bionic-updates/main amd64 libdrm-intel1 amd64 2.4.101-2~18.04.1 [60.0 kB]\n",
      "Get:62 http://archive.ubuntu.com/ubuntu bionic-updates/main amd64 libdrm-nouveau2 amd64 2.4.101-2~18.04.1 [16.5 kB]\n",
      "Get:63 http://archive.ubuntu.com/ubuntu bionic-updates/main amd64 libdrm-radeon1 amd64 2.4.101-2~18.04.1 [21.7 kB]\n",
      "Get:64 http://archive.ubuntu.com/ubuntu bionic/main amd64 libencode-locale-perl all 1.05-1 [12.3 kB]\n",
      "Get:65 http://archive.ubuntu.com/ubuntu bionic/main amd64 libipc-system-simple-perl all 1.25-4 [22.5 kB]\n",
      "Get:66 http://archive.ubuntu.com/ubuntu bionic/main amd64 libfile-basedir-perl all 0.07-1 [16.9 kB]\n",
      "Get:67 http://archive.ubuntu.com/ubuntu bionic/main amd64 liburi-perl all 1.73-1 [77.2 kB]\n",
      "Get:68 http://archive.ubuntu.com/ubuntu bionic/main amd64 libfile-desktopentry-perl all 0.22-1 [18.2 kB]\n",
      "Get:69 http://archive.ubuntu.com/ubuntu bionic/main amd64 libtimedate-perl all 2.3000-2 [37.5 kB]\n",
      "Get:70 http://archive.ubuntu.com/ubuntu bionic/main amd64 libhttp-date-perl all 6.02-1 [10.4 kB]\n",
      "Get:71 http://archive.ubuntu.com/ubuntu bionic/main amd64 libfile-listing-perl all 6.04-1 [9774 B]\n",
      "Get:72 http://archive.ubuntu.com/ubuntu bionic/main amd64 libfile-mimeinfo-perl all 0.28-1 [41.4 kB]\n",
      "Get:73 http://archive.ubuntu.com/ubuntu bionic/main amd64 libfont-afm-perl all 1.20-2 [13.2 kB]\n",
      "Get:74 http://archive.ubuntu.com/ubuntu bionic/main amd64 libfontenc1 amd64 1:1.1.3-1 [13.9 kB]\n",
      "Get:75 http://archive.ubuntu.com/ubuntu bionic-updates/main amd64 libglapi-mesa amd64 20.0.8-0ubuntu1~18.04.1 [26.6 kB]\n",
      "Get:76 http://archive.ubuntu.com/ubuntu bionic-updates/main amd64 libllvm10 amd64 1:10.0.0-4ubuntu1~18.04.2 [15.4 MB]\n",
      "Get:77 http://archive.ubuntu.com/ubuntu bionic/main amd64 libsensors4 amd64 1:3.4.0-4 [28.8 kB]33m\u001b[33m\u001b[33m\u001b[33m\u001b[33m\u001b[33m\u001b[33m\u001b[33m\u001b[33m\u001b[33m\u001b[33m\u001b[33m\u001b[33m\u001b[33m\u001b[33m\u001b[33m\u001b[33m\u001b[33m\u001b[33m\u001b[33m\u001b[33m\u001b[33m\u001b[33m\u001b[33m\u001b[33m\u001b[33m\u001b[33m\u001b[33m\u001b[33m\u001b[33m\u001b[33m\u001b[33m\u001b[33m\u001b[33m\u001b[33m\u001b[33m\u001b[33m\u001b[33m\u001b[33m\u001b[33m\u001b[33m\u001b[33m\u001b[33m\u001b[33m\u001b[33m\u001b[33m\u001b[33m\u001b[33m\u001b[33m\u001b[33m\u001b[33m\u001b[33m\u001b[33m\u001b[33m\u001b[33m\u001b[33m\u001b[33m\u001b[33m\u001b[33m\u001b[33m\u001b[33m\u001b[33m\u001b[33m\u001b[33m\u001b[33m\u001b[33m\u001b[33m\u001b[33m\u001b[33m\u001b[33m\u001b[33m\u001b[33m\u001b[33m\u001b[33m\u001b[33m\u001b[33m\u001b[33m\u001b[33m\u001b[33m\u001b[33m\u001b[33m\u001b[33m\u001b[33m\u001b[33m\u001b[33m\u001b[33m\u001b[33m\u001b[33m\u001b[33m\u001b[33m\u001b[33m\u001b[33m\u001b[33m\u001b[33m\u001b[33m\u001b[33m\u001b[33m\u001b[33m\u001b[33m\u001b[33m\u001b[33m\u001b[33m\u001b[33m\u001b[33m\u001b[33m\u001b[33m\u001b[33m\u001b[33m\u001b[33m\u001b[33m\u001b[33m\u001b[33m\u001b[33m\n",
      "Get:78 http://archive.ubuntu.com/ubuntu bionic-updates/main amd64 libgl1-mesa-dri amd64 20.0.8-0ubuntu1~18.04.1 [9333 kB]\n",
      "Get:79 http://archive.ubuntu.com/ubuntu bionic-updates/main amd64 libglvnd0 amd64 1.0.0-2ubuntu2.3 [47.0 kB]\u001b[33m\u001b[33m\u001b[33m\u001b[33m\u001b[33m\u001b[33m\u001b[33m\u001b[33m\u001b[33m\u001b[33m\u001b[33m\u001b[33m\u001b[33m\u001b[33m\u001b[33m\u001b[33m\u001b[33m\u001b[33m\u001b[33m\u001b[33m\u001b[33m\u001b[33m\u001b[33m\u001b[33m\u001b[33m\u001b[33m\u001b[33m\u001b[33m\u001b[33m\u001b[33m\u001b[33m\u001b[33m\u001b[33m\u001b[33m\u001b[33m\u001b[33m\u001b[33m\u001b[33m\u001b[33m\u001b[33m\u001b[33m\u001b[33m\u001b[33m\u001b[33m\u001b[33m\u001b[33m\u001b[33m\u001b[33m\u001b[33m\u001b[33m\u001b[33m\u001b[33m\u001b[33m\u001b[33m\u001b[33m\u001b[33m\u001b[33m\u001b[33m\u001b[33m\u001b[33m\u001b[33m\u001b[33m\u001b[33m\u001b[33m\u001b[33m\n",
      "Get:80 http://archive.ubuntu.com/ubuntu bionic-updates/main amd64 libxcb-dri2-0 amd64 1.13-2~ubuntu18.04 [6920 B]\n",
      "Get:81 http://archive.ubuntu.com/ubuntu bionic-updates/main amd64 libxcb-dri3-0 amd64 1.13-2~ubuntu18.04 [6568 B]\n",
      "Get:82 http://archive.ubuntu.com/ubuntu bionic-updates/main amd64 libxcb-glx0 amd64 1.13-2~ubuntu18.04 [22.1 kB]\n",
      "Get:83 http://archive.ubuntu.com/ubuntu bionic-updates/main amd64 libxcb-present0 amd64 1.13-2~ubuntu18.04 [5552 B]\n",
      "Get:84 http://archive.ubuntu.com/ubuntu bionic-updates/main amd64 libxcb-sync1 amd64 1.13-2~ubuntu18.04 [8808 B]\n",
      "Get:85 http://archive.ubuntu.com/ubuntu bionic/main amd64 libxshmfence1 amd64 1.3-1 [5028 B]\n",
      "Get:86 http://archive.ubuntu.com/ubuntu bionic-updates/main amd64 libglx-mesa0 amd64 20.0.8-0ubuntu1~18.04.1 [139 kB]\n",
      "Get:87 http://archive.ubuntu.com/ubuntu bionic-updates/main amd64 libglx0 amd64 1.0.0-2ubuntu2.3 [28.1 kB]\n",
      "Get:88 http://archive.ubuntu.com/ubuntu bionic-updates/main amd64 libgl1 amd64 1.0.0-2ubuntu2.3 [86.2 kB]\n",
      "Get:89 http://archive.ubuntu.com/ubuntu bionic-updates/main amd64 libgl1-mesa-glx amd64 20.0.8-0ubuntu1~18.04.1 [5532 B]\n",
      "Get:90 http://archive.ubuntu.com/ubuntu bionic/main amd64 libhtml-tagset-perl all 3.20-3 [12.1 kB]\n",
      "Get:91 http://archive.ubuntu.com/ubuntu bionic/main amd64 libhtml-parser-perl amd64 3.72-3build1 [85.9 kB]\n",
      "Get:92 http://archive.ubuntu.com/ubuntu bionic/main amd64 libio-html-perl all 1.001-1 [14.9 kB]\n",
      "Get:93 http://archive.ubuntu.com/ubuntu bionic/main amd64 liblwp-mediatypes-perl all 6.02-1 [21.7 kB]\n",
      "Get:94 http://archive.ubuntu.com/ubuntu bionic/main amd64 libhttp-message-perl all 6.14-1 [72.1 kB]\n",
      "Get:95 http://archive.ubuntu.com/ubuntu bionic/main amd64 libhtml-form-perl all 6.03-1 [23.5 kB]\n",
      "Get:96 http://archive.ubuntu.com/ubuntu bionic/main amd64 libhtml-tree-perl all 5.07-1 [200 kB]\n",
      "Get:97 http://archive.ubuntu.com/ubuntu bionic/main amd64 libhtml-format-perl all 2.12-1 [41.3 kB]\n",
      "Get:98 http://archive.ubuntu.com/ubuntu bionic/main amd64 libhttp-cookies-perl all 6.04-1 [17.2 kB]\n",
      "Get:99 http://archive.ubuntu.com/ubuntu bionic/main amd64 libhttp-daemon-perl all 6.01-1 [17.0 kB]\n",
      "Get:100 http://archive.ubuntu.com/ubuntu bionic/main amd64 libhttp-negotiate-perl all 6.00-2 [13.4 kB]\n",
      "Get:101 http://archive.ubuntu.com/ubuntu bionic/main amd64 perl-openssl-defaults amd64 3build1 [7012 B]\n",
      "Get:102 http://archive.ubuntu.com/ubuntu bionic-updates/main amd64 libnet-ssleay-perl amd64 1.84-1ubuntu0.2 [283 kB]\n",
      "Get:103 http://archive.ubuntu.com/ubuntu bionic-updates/main amd64 libio-socket-ssl-perl all 2.060-3~ubuntu18.04.1 [173 kB]\n",
      "Get:104 http://archive.ubuntu.com/ubuntu bionic/main amd64 libnet-http-perl all 6.17-1 [22.7 kB]\n",
      "Get:105 http://archive.ubuntu.com/ubuntu bionic/main amd64 libtry-tiny-perl all 0.30-1 [20.5 kB]\n",
      "Get:106 http://archive.ubuntu.com/ubuntu bionic/main amd64 libwww-robotrules-perl all 6.01-1 [14.1 kB]\n",
      "Get:107 http://archive.ubuntu.com/ubuntu bionic-updates/main amd64 libwww-perl all 6.31-1ubuntu0.1 [137 kB]\n",
      "Get:108 http://archive.ubuntu.com/ubuntu bionic/main amd64 liblwp-protocol-https-perl all 6.07-2 [8284 B]\n",
      "Get:109 http://archive.ubuntu.com/ubuntu bionic/main amd64 libnet-smtp-ssl-perl all 1.04-1 [5948 B]\n",
      "Get:110 http://archive.ubuntu.com/ubuntu bionic/main amd64 libmailtools-perl all 2.18-1 [74.0 kB]\n",
      "Get:111 http://archive.ubuntu.com/ubuntu bionic/main amd64 libxml-parser-perl amd64 2.44-2build3 [199 kB]\n",
      "Get:112 http://archive.ubuntu.com/ubuntu bionic/main amd64 libxml-twig-perl all 1:3.50-1 [156 kB]\n",
      "Get:113 http://archive.ubuntu.com/ubuntu bionic/main amd64 libnet-dbus-perl amd64 1.1.0-4build2 [176 kB]\n",
      "Get:114 http://archive.ubuntu.com/ubuntu bionic/main amd64 libtie-ixhash-perl all 1.23-2 [11.2 kB]\n",
      "Get:115 http://archive.ubuntu.com/ubuntu bionic/main amd64 libx11-protocol-perl all 0.56-7 [149 kB]\n",
      "Get:116 http://archive.ubuntu.com/ubuntu bionic/main amd64 libxt6 amd64 1:1.1.5-1 [160 kB]33m\n",
      "Get:117 http://archive.ubuntu.com/ubuntu bionic/main amd64 libxmu6 amd64 2:1.1.2-2 [46.0 kB]m\n",
      "Get:118 http://archive.ubuntu.com/ubuntu bionic/main amd64 libxpm4 amd64 1:3.5.12-1 [34.0 kB]\n",
      "Get:119 http://archive.ubuntu.com/ubuntu bionic/main amd64 libxaw7 amd64 2:1.0.13-1 [173 kB]\n",
      "Get:120 http://archive.ubuntu.com/ubuntu bionic-updates/main amd64 libxcb-shape0 amd64 1.13-2~ubuntu18.04 [5972 B]\n",
      "Get:121 http://archive.ubuntu.com/ubuntu bionic/main amd64 libxcursor1 amd64 1:1.1.15-1 [19.8 kB]\n",
      "Get:122 http://archive.ubuntu.com/ubuntu bionic/main amd64 libxi6 amd64 2:1.7.9-1 [29.2 kB]\n",
      "Get:123 http://archive.ubuntu.com/ubuntu bionic/main amd64 libxml-xpathengine-perl all 0.14-1 [31.8 kB]\n",
      "Get:124 http://archive.ubuntu.com/ubuntu bionic/main amd64 libxv1 amd64 2:1.0.11-1 [10.7 kB]\n",
      "Get:125 http://archive.ubuntu.com/ubuntu bionic/main amd64 x11-utils amd64 7.7+3build1 [196 kB]\n",
      "Get:126 http://archive.ubuntu.com/ubuntu bionic/main amd64 x11-xserver-utils amd64 7.7+7build1 [159 kB]\n",
      "Get:127 http://archive.ubuntu.com/ubuntu bionic/main amd64 libauthen-sasl-perl all 2.1600-1 [48.7 kB]\n",
      "Fetched 132 MB in 8min 28s (259 kB/s)                                          \u001b[0m\u001b[33m\n",
      "debconf: delaying package configuration, since apt-utils is not installed\n",
      "\n",
      "\u001b7\u001b[0;23r\u001b8\u001b[1ASelecting previously unselected package libasound2-data.\n",
      "(Reading database ... 18359 files and directories currently installed.)\n",
      "Preparing to unpack .../000-libasound2-data_1.1.3-5ubuntu0.6_all.deb ...\n",
      "\u001b7\u001b[24;0f\u001b[42m\u001b[30mProgress: [  0%]\u001b[49m\u001b[39m [..........................................................] \u001b8Unpacking libasound2-data (1.1.3-5ubuntu0.6) ...\n",
      "Selecting previously unselected package libasound2:amd64.\n",
      "Preparing to unpack .../001-libasound2_1.1.3-5ubuntu0.6_amd64.deb ...\n",
      "Unpacking libasound2:amd64 (1.1.3-5ubuntu0.6) ...\n",
      "Selecting previously unselected package libatk1.0-data.\n",
      "Preparing to unpack .../002-libatk1.0-data_2.28.1-1_all.deb ...\n",
      "\u001b7\u001b[24;0f\u001b[42m\u001b[30mProgress: [  1%]\u001b[49m\u001b[39m [..........................................................] \u001b8Unpacking libatk1.0-data (2.28.1-1) ...\n",
      "Selecting previously unselected package libatk1.0-0:amd64.\n",
      "Preparing to unpack .../003-libatk1.0-0_2.28.1-1_amd64.deb ...\n",
      "Unpacking libatk1.0-0:amd64 (2.28.1-1) ...\n",
      "Selecting previously unselected package libatspi2.0-0:amd64.\n",
      "Preparing to unpack .../004-libatspi2.0-0_2.28.0-1_amd64.deb ...\n",
      "\u001b7\u001b[24;0f\u001b[42m\u001b[30mProgress: [  2%]\u001b[49m\u001b[39m [#.........................................................] \u001b8Unpacking libatspi2.0-0:amd64 (2.28.0-1) ...\n",
      "Selecting previously unselected package libatk-bridge2.0-0:amd64.\n",
      "Preparing to unpack .../005-libatk-bridge2.0-0_2.26.2-1_amd64.deb ...\n",
      "Unpacking libatk-bridge2.0-0:amd64 (2.26.2-1) ...\n",
      "Selecting previously unselected package ucf.\n",
      "Preparing to unpack .../006-ucf_3.0038_all.deb ...\n",
      "Moving old data out of the way\n",
      "Unpacking ucf (3.0038) ...\n",
      "\u001b7\u001b[24;0f\u001b[42m\u001b[30mProgress: [  3%]\u001b[49m\u001b[39m [#.........................................................] \u001b8Selecting previously unselected package fonts-dejavu-core.\n",
      "Preparing to unpack .../007-fonts-dejavu-core_2.37-1_all.deb ...\n",
      "Unpacking fonts-dejavu-core (2.37-1) ...\n",
      "Selecting previously unselected package fontconfig-config.\n",
      "Preparing to unpack .../008-fontconfig-config_2.12.6-0ubuntu2_all.deb ...\n",
      "Unpacking fontconfig-config (2.12.6-0ubuntu2) ...\n",
      "\u001b7\u001b[24;0f\u001b[42m\u001b[30mProgress: [  4%]\u001b[49m\u001b[39m [##........................................................] \u001b8Selecting previously unselected package libfontconfig1:amd64.\n",
      "Preparing to unpack .../009-libfontconfig1_2.12.6-0ubuntu2_amd64.deb ...\n",
      "Unpacking libfontconfig1:amd64 (2.12.6-0ubuntu2) ...\n",
      "Selecting previously unselected package libpixman-1-0:amd64.\n",
      "Preparing to unpack .../010-libpixman-1-0_0.34.0-2_amd64.deb ...\n",
      "Unpacking libpixman-1-0:amd64 (0.34.0-2) ...\n",
      "\u001b7\u001b[24;0f\u001b[42m\u001b[30mProgress: [  5%]\u001b[49m\u001b[39m [##........................................................] \u001b8Selecting previously unselected package libxcb-render0:amd64.\n",
      "Preparing to unpack .../011-libxcb-render0_1.13-2~ubuntu18.04_amd64.deb ...\n",
      "Unpacking libxcb-render0:amd64 (1.13-2~ubuntu18.04) ...\n",
      "Selecting previously unselected package libxcb-shm0:amd64.\n",
      "Preparing to unpack .../012-libxcb-shm0_1.13-2~ubuntu18.04_amd64.deb ...\n",
      "Unpacking libxcb-shm0:amd64 (1.13-2~ubuntu18.04) ...\n",
      "\u001b7\u001b[24;0f\u001b[42m\u001b[30mProgress: [  6%]\u001b[49m\u001b[39m [###.......................................................] \u001b8Selecting previously unselected package libxrender1:amd64.\n",
      "Preparing to unpack .../013-libxrender1_1%3a0.9.10-1_amd64.deb ...\n",
      "Unpacking libxrender1:amd64 (1:0.9.10-1) ...\n",
      "Selecting previously unselected package libcairo2:amd64.\n",
      "Preparing to unpack .../014-libcairo2_1.15.10-2ubuntu0.1_amd64.deb ...\n",
      "Unpacking libcairo2:amd64 (1.15.10-2ubuntu0.1) ...\n",
      "\u001b7\u001b[24;0f\u001b[42m\u001b[30mProgress: [  7%]\u001b[49m\u001b[39m [####......................................................] \u001b8Selecting previously unselected package libavahi-common-data:amd64.\n",
      "Preparing to unpack .../015-libavahi-common-data_0.7-3.1ubuntu1.3_amd64.deb ...\n",
      "Unpacking libavahi-common-data:amd64 (0.7-3.1ubuntu1.3) ...\n",
      "Selecting previously unselected package libavahi-common3:amd64.\n",
      "Preparing to unpack .../016-libavahi-common3_0.7-3.1ubuntu1.3_amd64.deb ...\n",
      "Unpacking libavahi-common3:amd64 (0.7-3.1ubuntu1.3) ...\n",
      "\u001b7\u001b[24;0f\u001b[42m\u001b[30mProgress: [  8%]\u001b[49m\u001b[39m [####......................................................] \u001b8Selecting previously unselected package libavahi-client3:amd64.\n",
      "Preparing to unpack .../017-libavahi-client3_0.7-3.1ubuntu1.3_amd64.deb ...\n",
      "Unpacking libavahi-client3:amd64 (0.7-3.1ubuntu1.3) ...\n",
      "Selecting previously unselected package libcups2:amd64.\n",
      "Preparing to unpack .../018-libcups2_2.2.7-1ubuntu2.8_amd64.deb ...\n",
      "Unpacking libcups2:amd64 (2.2.7-1ubuntu2.8) ...\n",
      "Selecting previously unselected package libdrm-common.\n",
      "Preparing to unpack .../019-libdrm-common_2.4.101-2~18.04.1_all.deb ...\n",
      "\u001b7\u001b[24;0f\u001b[42m\u001b[30mProgress: [  9%]\u001b[49m\u001b[39m [#####.....................................................] \u001b8Unpacking libdrm-common (2.4.101-2~18.04.1) ...\n",
      "Selecting previously unselected package libdrm2:amd64.\n",
      "Preparing to unpack .../020-libdrm2_2.4.101-2~18.04.1_amd64.deb ...\n",
      "Unpacking libdrm2:amd64 (2.4.101-2~18.04.1) ...\n",
      "Selecting previously unselected package libwayland-server0:amd64.\n",
      "Preparing to unpack .../021-libwayland-server0_1.16.0-1ubuntu1.1~18.04.3_amd64.deb ...\n",
      "\u001b7\u001b[24;0f\u001b[42m\u001b[30mProgress: [ 10%]\u001b[49m\u001b[39m [#####.....................................................] \u001b8Unpacking libwayland-server0:amd64 (1.16.0-1ubuntu1.1~18.04.3) ...\n",
      "Selecting previously unselected package libgbm1:amd64.\n",
      "Preparing to unpack .../022-libgbm1_20.0.8-0ubuntu1~18.04.1_amd64.deb ...\n",
      "Unpacking libgbm1:amd64 (20.0.8-0ubuntu1~18.04.1) ...\n",
      "Selecting previously unselected package libnspr4:amd64.\n",
      "Preparing to unpack .../023-libnspr4_2%3a4.18-1ubuntu1_amd64.deb ...\n",
      "\u001b7\u001b[24;0f\u001b[42m\u001b[30mProgress: [ 11%]\u001b[49m\u001b[39m [######....................................................] \u001b8Unpacking libnspr4:amd64 (2:4.18-1ubuntu1) ...\n",
      "Selecting previously unselected package libnss3:amd64.\n",
      "Preparing to unpack .../024-libnss3_2%3a3.35-2ubuntu2.13_amd64.deb ...\n",
      "Unpacking libnss3:amd64 (2:3.35-2ubuntu2.13) ...\n",
      "Selecting previously unselected package fontconfig.\n",
      "Preparing to unpack .../025-fontconfig_2.12.6-0ubuntu2_amd64.deb ...\n",
      "Unpacking fontconfig (2.12.6-0ubuntu2) ...\n",
      "\u001b7\u001b[24;0f\u001b[42m\u001b[30mProgress: [ 12%]\u001b[49m\u001b[39m [#######...................................................] \u001b8Selecting previously unselected package libthai-data.\n",
      "Preparing to unpack .../026-libthai-data_0.1.27-2_all.deb ...\n",
      "Unpacking libthai-data (0.1.27-2) ...\n",
      "Selecting previously unselected package libdatrie1:amd64.\n",
      "Preparing to unpack .../027-libdatrie1_0.2.10-7_amd64.deb ...\n",
      "Unpacking libdatrie1:amd64 (0.2.10-7) ...\n",
      "\u001b7\u001b[24;0f\u001b[42m\u001b[30mProgress: [ 13%]\u001b[49m\u001b[39m [#######...................................................] \u001b8Selecting previously unselected package libthai0:amd64.\n",
      "Preparing to unpack .../028-libthai0_0.1.27-2_amd64.deb ...\n",
      "Unpacking libthai0:amd64 (0.1.27-2) ...\n",
      "Selecting previously unselected package libpango-1.0-0:amd64.\n",
      "Preparing to unpack .../029-libpango-1.0-0_1.40.14-1ubuntu0.1_amd64.deb ...\n",
      "Unpacking libpango-1.0-0:amd64 (1.40.14-1ubuntu0.1) ...\n",
      "\u001b7\u001b[24;0f\u001b[42m\u001b[30mProgress: [ 14%]\u001b[49m\u001b[39m [########..................................................] \u001b8Selecting previously unselected package libxcomposite1:amd64.\n",
      "Preparing to unpack .../030-libxcomposite1_1%3a0.4.4-2_amd64.deb ...\n",
      "Unpacking libxcomposite1:amd64 (1:0.4.4-2) ...\n",
      "Selecting previously unselected package libxdamage1:amd64.\n",
      "Preparing to unpack .../031-libxdamage1_1%3a1.1.4-3_amd64.deb ...\n",
      "Unpacking libxdamage1:amd64 (1:1.1.4-3) ...\n",
      "\u001b7\u001b[24;0f\u001b[42m\u001b[30mProgress: [ 15%]\u001b[49m\u001b[39m [########..................................................] \u001b8Selecting previously unselected package libxfixes3:amd64.\n",
      "Preparing to unpack .../032-libxfixes3_1%3a5.0.3-1_amd64.deb ...\n",
      "Unpacking libxfixes3:amd64 (1:5.0.3-1) ...\n",
      "Selecting previously unselected package xkb-data.\n",
      "Preparing to unpack .../033-xkb-data_2.23.1-1ubuntu1.18.04.1_all.deb ...\n",
      "Unpacking xkb-data (2.23.1-1ubuntu1.18.04.1) ...\n",
      "\u001b7\u001b[24;0f\u001b[42m\u001b[30mProgress: [ 16%]\u001b[49m\u001b[39m [#########.................................................] \u001b8Selecting previously unselected package libxkbcommon0:amd64.\n",
      "Preparing to unpack .../034-libxkbcommon0_0.8.2-1~ubuntu18.04.1_amd64.deb ...\n",
      "Unpacking libxkbcommon0:amd64 (0.8.2-1~ubuntu18.04.1) ...\n",
      "Selecting previously unselected package libxrandr2:amd64.\n",
      "Preparing to unpack .../035-libxrandr2_2%3a1.5.1-1_amd64.deb ...\n",
      "Unpacking libxrandr2:amd64 (2:1.5.1-1) ...\n",
      "Selecting previously unselected package x11-common.\n",
      "Preparing to unpack .../036-x11-common_1%3a7.7+19ubuntu7.1_all.deb ...\n",
      "\u001b7\u001b[24;0f\u001b[42m\u001b[30mProgress: [ 17%]\u001b[49m\u001b[39m [#########.................................................] \u001b8\u001b[1mdpkg-query:\u001b[0m no packages found matching nux-tools\n",
      "Unpacking x11-common (1:7.7+19ubuntu7.1) ...\n",
      "Selecting previously unselected package libxtst6:amd64.\n",
      "Preparing to unpack .../037-libxtst6_2%3a1.2.3-1_amd64.deb ...\n",
      "Unpacking libxtst6:amd64 (2:1.2.3-1) ...\n",
      "Selecting previously unselected package libx11-xcb1:amd64.\n",
      "Preparing to unpack .../038-libx11-xcb1_2%3a1.6.4-3ubuntu0.4_amd64.deb ...\n",
      "\u001b7\u001b[24;0f\u001b[42m\u001b[30mProgress: [ 18%]\u001b[49m\u001b[39m [##########................................................] \u001b8Unpacking libx11-xcb1:amd64 (2:1.6.4-3ubuntu0.4) ...\n",
      "Selecting previously unselected package xdg-utils.\n",
      "Preparing to unpack .../039-xdg-utils_1.1.2-1ubuntu2.5_all.deb ...\n",
      "Unpacking xdg-utils (1.1.2-1ubuntu2.5) ...\n",
      "Selecting previously unselected package chromium-codecs-ffmpeg-extra.\n",
      "Preparing to unpack .../040-chromium-codecs-ffmpeg-extra_99.0.4844.51-0ubuntu0.18.04.1_amd64.deb ...\n",
      "\u001b7\u001b[24;0f\u001b[42m\u001b[30mProgress: [ 19%]\u001b[49m\u001b[39m [###########...............................................] \u001b8Unpacking chromium-codecs-ffmpeg-extra (99.0.4844.51-0ubuntu0.18.04.1) ...\n",
      "Selecting previously unselected package chromium-browser.\n",
      "Preparing to unpack .../041-chromium-browser_99.0.4844.51-0ubuntu0.18.04.1_amd64.deb ...\n",
      "Unpacking chromium-browser (99.0.4844.51-0ubuntu0.18.04.1) ...\n",
      "Selecting previously unselected package chromium-browser-l10n.\n",
      "Preparing to unpack .../042-chromium-browser-l10n_99.0.4844.51-0ubuntu0.18.04.1_all.deb ...\n",
      "Unpacking chromium-browser-l10n (99.0.4844.51-0ubuntu0.18.04.1) ...\n",
      "\u001b7\u001b[24;0f\u001b[42m\u001b[30mProgress: [ 20%]\u001b[49m\u001b[39m [###########...............................................] \u001b8Selecting previously unselected package chromium-chromedriver.\n",
      "Preparing to unpack .../043-chromium-chromedriver_99.0.4844.51-0ubuntu0.18.04.1_amd64.deb ...\n",
      "Unpacking chromium-chromedriver (99.0.4844.51-0ubuntu0.18.04.1) ...\n",
      "Selecting previously unselected package libice6:amd64.\n",
      "Preparing to unpack .../044-libice6_2%3a1.0.9-2_amd64.deb ...\n",
      "Unpacking libice6:amd64 (2:1.0.9-2) ...\n",
      "\u001b7\u001b[24;0f\u001b[42m\u001b[30mProgress: [ 21%]\u001b[49m\u001b[39m [############..............................................] \u001b8Selecting previously unselected package libsm6:amd64.\n",
      "Preparing to unpack .../045-libsm6_2%3a1.2.2-1_amd64.deb ...\n",
      "Unpacking libsm6:amd64 (2:1.2.2-1) ...\n",
      "Selecting previously unselected package libxft2:amd64.\n",
      "Preparing to unpack .../046-libxft2_2.3.2-1_amd64.deb ...\n",
      "Unpacking libxft2:amd64 (2.3.2-1) ...\n",
      "\u001b7\u001b[24;0f\u001b[42m\u001b[30mProgress: [ 22%]\u001b[49m\u001b[39m [############..............................................] \u001b8Selecting previously unselected package libxinerama1:amd64.\n",
      "Preparing to unpack .../047-libxinerama1_2%3a1.1.3-1_amd64.deb ...\n",
      "Unpacking libxinerama1:amd64 (2:1.1.3-1) ...\n",
      "Selecting previously unselected package libxxf86dga1:amd64.\n",
      "Preparing to unpack .../048-libxxf86dga1_2%3a1.1.4-1_amd64.deb ...\n",
      "Unpacking libxxf86dga1:amd64 (2:1.1.4-1) ...\n",
      "\u001b7\u001b[24;0f\u001b[42m\u001b[30mProgress: [ 23%]\u001b[49m\u001b[39m [#############.............................................] \u001b8Selecting previously unselected package libxxf86vm1:amd64.\n",
      "Preparing to unpack .../049-libxxf86vm1_1%3a1.1.4-1_amd64.deb ...\n",
      "Unpacking libxxf86vm1:amd64 (1:1.1.4-1) ...\n",
      "Selecting previously unselected package libelf1:amd64.\n",
      "Preparing to unpack .../050-libelf1_0.170-0.4ubuntu0.1_amd64.deb ...\n",
      "Unpacking libelf1:amd64 (0.170-0.4ubuntu0.1) ...\n",
      "\u001b7\u001b[24;0f\u001b[42m\u001b[30mProgress: [ 24%]\u001b[49m\u001b[39m [#############.............................................] \u001b8Selecting previously unselected package libicu60:amd64.\n",
      "Preparing to unpack .../051-libicu60_60.2-3ubuntu3.2_amd64.deb ...\n",
      "Unpacking libicu60:amd64 (60.2-3ubuntu3.2) ...\n",
      "Selecting previously unselected package libtext-iconv-perl.\n",
      "Preparing to unpack .../052-libtext-iconv-perl_1.7-5build6_amd64.deb ...\n",
      "Unpacking libtext-iconv-perl (1.7-5build6) ...\n",
      "\u001b7\u001b[24;0f\u001b[42m\u001b[30mProgress: [ 25%]\u001b[49m\u001b[39m [##############............................................] \u001b8Selecting previously unselected package libxml2:amd64.\n",
      "Preparing to unpack .../053-libxml2_2.9.4+dfsg1-6.1ubuntu1.4_amd64.deb ...\n",
      "Unpacking libxml2:amd64 (2.9.4+dfsg1-6.1ubuntu1.4) ...\n",
      "Selecting previously unselected package netbase.\n",
      "Preparing to unpack .../054-netbase_5.4_all.deb ...\n",
      "Unpacking netbase (5.4) ...\n",
      "Selecting previously unselected package shared-mime-info.\n",
      "Preparing to unpack .../055-shared-mime-info_1.9-2_amd64.deb ...\n",
      "\u001b7\u001b[24;0f\u001b[42m\u001b[30mProgress: [ 26%]\u001b[49m\u001b[39m [###############...........................................] \u001b8Unpacking shared-mime-info (1.9-2) ...\n",
      "Selecting previously unselected package at-spi2-core.\n",
      "Preparing to unpack .../056-at-spi2-core_2.28.0-1_amd64.deb ...\n",
      "Unpacking at-spi2-core (2.28.0-1) ...\n",
      "Selecting previously unselected package libdata-dump-perl.\n",
      "Preparing to unpack .../057-libdata-dump-perl_1.23-1_all.deb ...\n",
      "\u001b7\u001b[24;0f\u001b[42m\u001b[30mProgress: [ 27%]\u001b[49m\u001b[39m [###############...........................................] \u001b8Unpacking libdata-dump-perl (1.23-1) ...\n",
      "Selecting previously unselected package libdrm-amdgpu1:amd64.\n",
      "Preparing to unpack .../058-libdrm-amdgpu1_2.4.101-2~18.04.1_amd64.deb ...\n",
      "Unpacking libdrm-amdgpu1:amd64 (2.4.101-2~18.04.1) ...\n",
      "Selecting previously unselected package libpciaccess0:amd64.\n",
      "Preparing to unpack .../059-libpciaccess0_0.14-1_amd64.deb ...\n",
      "Unpacking libpciaccess0:amd64 (0.14-1) ...\n",
      "\u001b7\u001b[24;0f\u001b[42m\u001b[30mProgress: [ 28%]\u001b[49m\u001b[39m [################..........................................] \u001b8Selecting previously unselected package libdrm-intel1:amd64.\n",
      "Preparing to unpack .../060-libdrm-intel1_2.4.101-2~18.04.1_amd64.deb ...\n",
      "Unpacking libdrm-intel1:amd64 (2.4.101-2~18.04.1) ...\n",
      "Selecting previously unselected package libdrm-nouveau2:amd64.\n",
      "Preparing to unpack .../061-libdrm-nouveau2_2.4.101-2~18.04.1_amd64.deb ...\n",
      "Unpacking libdrm-nouveau2:amd64 (2.4.101-2~18.04.1) ...\n",
      "\u001b7\u001b[24;0f\u001b[42m\u001b[30mProgress: [ 29%]\u001b[49m\u001b[39m [################..........................................] \u001b8Selecting previously unselected package libdrm-radeon1:amd64.\n",
      "Preparing to unpack .../062-libdrm-radeon1_2.4.101-2~18.04.1_amd64.deb ...\n",
      "Unpacking libdrm-radeon1:amd64 (2.4.101-2~18.04.1) ...\n",
      "Selecting previously unselected package libencode-locale-perl.\n",
      "Preparing to unpack .../063-libencode-locale-perl_1.05-1_all.deb ...\n",
      "Unpacking libencode-locale-perl (1.05-1) ...\n",
      "\u001b7\u001b[24;0f\u001b[42m\u001b[30mProgress: [ 30%]\u001b[49m\u001b[39m [#################.........................................] \u001b8Selecting previously unselected package libipc-system-simple-perl.\n",
      "Preparing to unpack .../064-libipc-system-simple-perl_1.25-4_all.deb ...\n",
      "Unpacking libipc-system-simple-perl (1.25-4) ...\n",
      "Selecting previously unselected package libfile-basedir-perl.\n",
      "Preparing to unpack .../065-libfile-basedir-perl_0.07-1_all.deb ...\n",
      "Unpacking libfile-basedir-perl (0.07-1) ...\n",
      "\u001b7\u001b[24;0f\u001b[42m\u001b[30mProgress: [ 31%]\u001b[49m\u001b[39m [##################........................................] \u001b8Selecting previously unselected package liburi-perl.\n",
      "Preparing to unpack .../066-liburi-perl_1.73-1_all.deb ...\n",
      "Unpacking liburi-perl (1.73-1) ...\n",
      "Selecting previously unselected package libfile-desktopentry-perl.\n",
      "Preparing to unpack .../067-libfile-desktopentry-perl_0.22-1_all.deb ...\n",
      "Unpacking libfile-desktopentry-perl (0.22-1) ...\n",
      "\u001b7\u001b[24;0f\u001b[42m\u001b[30mProgress: [ 32%]\u001b[49m\u001b[39m [##################........................................] \u001b8Selecting previously unselected package libtimedate-perl.\n",
      "Preparing to unpack .../068-libtimedate-perl_2.3000-2_all.deb ...\n",
      "Unpacking libtimedate-perl (2.3000-2) ...\n",
      "Selecting previously unselected package libhttp-date-perl.\n",
      "Preparing to unpack .../069-libhttp-date-perl_6.02-1_all.deb ...\n",
      "Unpacking libhttp-date-perl (6.02-1) ...\n",
      "\u001b7\u001b[24;0f\u001b[42m\u001b[30mProgress: [ 33%]\u001b[49m\u001b[39m [###################.......................................] \u001b8Selecting previously unselected package libfile-listing-perl.\n",
      "Preparing to unpack .../070-libfile-listing-perl_6.04-1_all.deb ...\n",
      "Unpacking libfile-listing-perl (6.04-1) ...\n",
      "Selecting previously unselected package libfile-mimeinfo-perl.\n",
      "Preparing to unpack .../071-libfile-mimeinfo-perl_0.28-1_all.deb ...\n",
      "Unpacking libfile-mimeinfo-perl (0.28-1) ...\n",
      "Selecting previously unselected package libfont-afm-perl.\n",
      "Preparing to unpack .../072-libfont-afm-perl_1.20-2_all.deb ...\n",
      "\u001b7\u001b[24;0f\u001b[42m\u001b[30mProgress: [ 34%]\u001b[49m\u001b[39m [###################.......................................] \u001b8Unpacking libfont-afm-perl (1.20-2) ...\n",
      "Selecting previously unselected package libfontenc1:amd64.\n",
      "Preparing to unpack .../073-libfontenc1_1%3a1.1.3-1_amd64.deb ...\n",
      "Unpacking libfontenc1:amd64 (1:1.1.3-1) ...\n",
      "Selecting previously unselected package libglapi-mesa:amd64.\n",
      "Preparing to unpack .../074-libglapi-mesa_20.0.8-0ubuntu1~18.04.1_amd64.deb ...\n",
      "\u001b7\u001b[24;0f\u001b[42m\u001b[30mProgress: [ 35%]\u001b[49m\u001b[39m [####################......................................] \u001b8Unpacking libglapi-mesa:amd64 (20.0.8-0ubuntu1~18.04.1) ...\n",
      "Selecting previously unselected package libllvm10:amd64.\n",
      "Preparing to unpack .../075-libllvm10_1%3a10.0.0-4ubuntu1~18.04.2_amd64.deb ...\n",
      "Unpacking libllvm10:amd64 (1:10.0.0-4ubuntu1~18.04.2) ...\n",
      "Selecting previously unselected package libsensors4:amd64.\n",
      "Preparing to unpack .../076-libsensors4_1%3a3.4.0-4_amd64.deb ...\n",
      "\u001b7\u001b[24;0f\u001b[42m\u001b[30mProgress: [ 36%]\u001b[49m\u001b[39m [####################......................................] \u001b8Unpacking libsensors4:amd64 (1:3.4.0-4) ...\n",
      "Selecting previously unselected package libgl1-mesa-dri:amd64.\n",
      "Preparing to unpack .../077-libgl1-mesa-dri_20.0.8-0ubuntu1~18.04.1_amd64.deb ...\n",
      "Unpacking libgl1-mesa-dri:amd64 (20.0.8-0ubuntu1~18.04.1) ...\n",
      "Selecting previously unselected package libglvnd0:amd64.\n",
      "Preparing to unpack .../078-libglvnd0_1.0.0-2ubuntu2.3_amd64.deb ...\n",
      "Unpacking libglvnd0:amd64 (1.0.0-2ubuntu2.3) ...\n",
      "\u001b7\u001b[24;0f\u001b[42m\u001b[30mProgress: [ 37%]\u001b[49m\u001b[39m [#####################.....................................] \u001b8Selecting previously unselected package libxcb-dri2-0:amd64.\n",
      "Preparing to unpack .../079-libxcb-dri2-0_1.13-2~ubuntu18.04_amd64.deb ...\n",
      "Unpacking libxcb-dri2-0:amd64 (1.13-2~ubuntu18.04) ...\n",
      "Selecting previously unselected package libxcb-dri3-0:amd64.\n",
      "Preparing to unpack .../080-libxcb-dri3-0_1.13-2~ubuntu18.04_amd64.deb ...\n",
      "Unpacking libxcb-dri3-0:amd64 (1.13-2~ubuntu18.04) ...\n",
      "\u001b7\u001b[24;0f\u001b[42m\u001b[30mProgress: [ 38%]\u001b[49m\u001b[39m [######################....................................] \u001b8Selecting previously unselected package libxcb-glx0:amd64.\n",
      "Preparing to unpack .../081-libxcb-glx0_1.13-2~ubuntu18.04_amd64.deb ...\n",
      "Unpacking libxcb-glx0:amd64 (1.13-2~ubuntu18.04) ...\n",
      "Selecting previously unselected package libxcb-present0:amd64.\n",
      "Preparing to unpack .../082-libxcb-present0_1.13-2~ubuntu18.04_amd64.deb ...\n",
      "Unpacking libxcb-present0:amd64 (1.13-2~ubuntu18.04) ...\n",
      "\u001b7\u001b[24;0f\u001b[42m\u001b[30mProgress: [ 39%]\u001b[49m\u001b[39m [######################....................................] \u001b8Selecting previously unselected package libxcb-sync1:amd64.\n",
      "Preparing to unpack .../083-libxcb-sync1_1.13-2~ubuntu18.04_amd64.deb ...\n",
      "Unpacking libxcb-sync1:amd64 (1.13-2~ubuntu18.04) ...\n",
      "Selecting previously unselected package libxshmfence1:amd64.\n",
      "Preparing to unpack .../084-libxshmfence1_1.3-1_amd64.deb ...\n",
      "Unpacking libxshmfence1:amd64 (1.3-1) ...\n",
      "\u001b7\u001b[24;0f\u001b[42m\u001b[30mProgress: [ 40%]\u001b[49m\u001b[39m [#######################...................................] \u001b8Selecting previously unselected package libglx-mesa0:amd64.\n",
      "Preparing to unpack .../085-libglx-mesa0_20.0.8-0ubuntu1~18.04.1_amd64.deb ...\n",
      "Unpacking libglx-mesa0:amd64 (20.0.8-0ubuntu1~18.04.1) ...\n",
      "Selecting previously unselected package libglx0:amd64.\n",
      "Preparing to unpack .../086-libglx0_1.0.0-2ubuntu2.3_amd64.deb ...\n",
      "Unpacking libglx0:amd64 (1.0.0-2ubuntu2.3) ...\n",
      "\u001b7\u001b[24;0f\u001b[42m\u001b[30mProgress: [ 41%]\u001b[49m\u001b[39m [#######################...................................] \u001b8Selecting previously unselected package libgl1:amd64.\n",
      "Preparing to unpack .../087-libgl1_1.0.0-2ubuntu2.3_amd64.deb ...\n",
      "Unpacking libgl1:amd64 (1.0.0-2ubuntu2.3) ...\n",
      "Selecting previously unselected package libgl1-mesa-glx:amd64.\n",
      "Preparing to unpack .../088-libgl1-mesa-glx_20.0.8-0ubuntu1~18.04.1_amd64.deb ...\n",
      "Unpacking libgl1-mesa-glx:amd64 (20.0.8-0ubuntu1~18.04.1) ...\n",
      "Selecting previously unselected package libhtml-tagset-perl.\n",
      "Preparing to unpack .../089-libhtml-tagset-perl_3.20-3_all.deb ...\n",
      "\u001b7\u001b[24;0f\u001b[42m\u001b[30mProgress: [ 42%]\u001b[49m\u001b[39m [########################..................................] \u001b8Unpacking libhtml-tagset-perl (3.20-3) ...\n",
      "Selecting previously unselected package libhtml-parser-perl.\n",
      "Preparing to unpack .../090-libhtml-parser-perl_3.72-3build1_amd64.deb ...\n",
      "Unpacking libhtml-parser-perl (3.72-3build1) ...\n",
      "Selecting previously unselected package libio-html-perl.\n",
      "Preparing to unpack .../091-libio-html-perl_1.001-1_all.deb ...\n",
      "\u001b7\u001b[24;0f\u001b[42m\u001b[30mProgress: [ 43%]\u001b[49m\u001b[39m [########################..................................] \u001b8Unpacking libio-html-perl (1.001-1) ...\n",
      "Selecting previously unselected package liblwp-mediatypes-perl.\n",
      "Preparing to unpack .../092-liblwp-mediatypes-perl_6.02-1_all.deb ...\n",
      "Unpacking liblwp-mediatypes-perl (6.02-1) ...\n",
      "Selecting previously unselected package libhttp-message-perl.\n",
      "Preparing to unpack .../093-libhttp-message-perl_6.14-1_all.deb ...\n",
      "\u001b7\u001b[24;0f\u001b[42m\u001b[30mProgress: [ 44%]\u001b[49m\u001b[39m [#########################.................................] \u001b8Unpacking libhttp-message-perl (6.14-1) ...\n",
      "Selecting previously unselected package libhtml-form-perl.\n",
      "Preparing to unpack .../094-libhtml-form-perl_6.03-1_all.deb ...\n",
      "Unpacking libhtml-form-perl (6.03-1) ...\n",
      "Selecting previously unselected package libhtml-tree-perl.\n",
      "Preparing to unpack .../095-libhtml-tree-perl_5.07-1_all.deb ...\n",
      "Unpacking libhtml-tree-perl (5.07-1) ...\n",
      "\u001b7\u001b[24;0f\u001b[42m\u001b[30mProgress: [ 45%]\u001b[49m\u001b[39m [##########################................................] \u001b8Selecting previously unselected package libhtml-format-perl.\n",
      "Preparing to unpack .../096-libhtml-format-perl_2.12-1_all.deb ...\n",
      "Unpacking libhtml-format-perl (2.12-1) ...\n",
      "Selecting previously unselected package libhttp-cookies-perl.\n",
      "Preparing to unpack .../097-libhttp-cookies-perl_6.04-1_all.deb ...\n",
      "Unpacking libhttp-cookies-perl (6.04-1) ...\n",
      "\u001b7\u001b[24;0f\u001b[42m\u001b[30mProgress: [ 46%]\u001b[49m\u001b[39m [##########################................................] \u001b8Selecting previously unselected package libhttp-daemon-perl.\n",
      "Preparing to unpack .../098-libhttp-daemon-perl_6.01-1_all.deb ...\n",
      "Unpacking libhttp-daemon-perl (6.01-1) ...\n",
      "Selecting previously unselected package libhttp-negotiate-perl.\n",
      "Preparing to unpack .../099-libhttp-negotiate-perl_6.00-2_all.deb ...\n",
      "Unpacking libhttp-negotiate-perl (6.00-2) ...\n",
      "\u001b7\u001b[24;0f\u001b[42m\u001b[30mProgress: [ 47%]\u001b[49m\u001b[39m [###########################...............................] \u001b8Selecting previously unselected package perl-openssl-defaults:amd64.\n",
      "Preparing to unpack .../100-perl-openssl-defaults_3build1_amd64.deb ...\n",
      "Unpacking perl-openssl-defaults:amd64 (3build1) ...\n",
      "Selecting previously unselected package libnet-ssleay-perl.\n",
      "Preparing to unpack .../101-libnet-ssleay-perl_1.84-1ubuntu0.2_amd64.deb ...\n",
      "Unpacking libnet-ssleay-perl (1.84-1ubuntu0.2) ...\n",
      "\u001b7\u001b[24;0f\u001b[42m\u001b[30mProgress: [ 48%]\u001b[49m\u001b[39m [###########################...............................] \u001b8Selecting previously unselected package libio-socket-ssl-perl.\n",
      "Preparing to unpack .../102-libio-socket-ssl-perl_2.060-3~ubuntu18.04.1_all.deb ...\n",
      "Unpacking libio-socket-ssl-perl (2.060-3~ubuntu18.04.1) ...\n",
      "Selecting previously unselected package libnet-http-perl.\n",
      "Preparing to unpack .../103-libnet-http-perl_6.17-1_all.deb ...\n",
      "Unpacking libnet-http-perl (6.17-1) ...\n",
      "\u001b7\u001b[24;0f\u001b[42m\u001b[30mProgress: [ 49%]\u001b[49m\u001b[39m [############################..............................] \u001b8Selecting previously unselected package libtry-tiny-perl.\n",
      "Preparing to unpack .../104-libtry-tiny-perl_0.30-1_all.deb ...\n",
      "Unpacking libtry-tiny-perl (0.30-1) ...\n",
      "Selecting previously unselected package libwww-robotrules-perl.\n",
      "Preparing to unpack .../105-libwww-robotrules-perl_6.01-1_all.deb ...\n",
      "Unpacking libwww-robotrules-perl (6.01-1) ...\n",
      "\u001b7\u001b[24;0f\u001b[42m\u001b[30mProgress: [ 50%]\u001b[49m\u001b[39m [#############################.............................] \u001b8Selecting previously unselected package libwww-perl.\n",
      "Preparing to unpack .../106-libwww-perl_6.31-1ubuntu0.1_all.deb ...\n",
      "Unpacking libwww-perl (6.31-1ubuntu0.1) ...\n",
      "Selecting previously unselected package liblwp-protocol-https-perl.\n",
      "Preparing to unpack .../107-liblwp-protocol-https-perl_6.07-2_all.deb ...\n",
      "Unpacking liblwp-protocol-https-perl (6.07-2) ...\n",
      "Selecting previously unselected package libnet-smtp-ssl-perl.\n",
      "Preparing to unpack .../108-libnet-smtp-ssl-perl_1.04-1_all.deb ...\n",
      "\u001b7\u001b[24;0f\u001b[42m\u001b[30mProgress: [ 51%]\u001b[49m\u001b[39m [#############################.............................] \u001b8Unpacking libnet-smtp-ssl-perl (1.04-1) ...\n",
      "Selecting previously unselected package libmailtools-perl.\n",
      "Preparing to unpack .../109-libmailtools-perl_2.18-1_all.deb ...\n",
      "Unpacking libmailtools-perl (2.18-1) ...\n",
      "Selecting previously unselected package libxml-parser-perl.\n",
      "Preparing to unpack .../110-libxml-parser-perl_2.44-2build3_amd64.deb ...\n",
      "\u001b7\u001b[24;0f\u001b[42m\u001b[30mProgress: [ 52%]\u001b[49m\u001b[39m [##############################............................] \u001b8Unpacking libxml-parser-perl (2.44-2build3) ...\n",
      "Selecting previously unselected package libxml-twig-perl.\n",
      "Preparing to unpack .../111-libxml-twig-perl_1%3a3.50-1_all.deb ...\n",
      "Unpacking libxml-twig-perl (1:3.50-1) ...\n",
      "Selecting previously unselected package libnet-dbus-perl.\n",
      "Preparing to unpack .../112-libnet-dbus-perl_1.1.0-4build2_amd64.deb ...\n",
      "Unpacking libnet-dbus-perl (1.1.0-4build2) ...\n",
      "\u001b7\u001b[24;0f\u001b[42m\u001b[30mProgress: [ 53%]\u001b[49m\u001b[39m [##############################............................] \u001b8Selecting previously unselected package libtie-ixhash-perl.\n",
      "Preparing to unpack .../113-libtie-ixhash-perl_1.23-2_all.deb ...\n",
      "Unpacking libtie-ixhash-perl (1.23-2) ...\n",
      "Selecting previously unselected package libx11-protocol-perl.\n",
      "Preparing to unpack .../114-libx11-protocol-perl_0.56-7_all.deb ...\n",
      "Unpacking libx11-protocol-perl (0.56-7) ...\n",
      "\u001b7\u001b[24;0f\u001b[42m\u001b[30mProgress: [ 54%]\u001b[49m\u001b[39m [###############################...........................] \u001b8Selecting previously unselected package libxt6:amd64.\n",
      "Preparing to unpack .../115-libxt6_1%3a1.1.5-1_amd64.deb ...\n",
      "Unpacking libxt6:amd64 (1:1.1.5-1) ...\n",
      "Selecting previously unselected package libxmu6:amd64.\n",
      "Preparing to unpack .../116-libxmu6_2%3a1.1.2-2_amd64.deb ...\n",
      "Unpacking libxmu6:amd64 (2:1.1.2-2) ...\n",
      "\u001b7\u001b[24;0f\u001b[42m\u001b[30mProgress: [ 55%]\u001b[49m\u001b[39m [###############################...........................] \u001b8Selecting previously unselected package libxpm4:amd64.\n",
      "Preparing to unpack .../117-libxpm4_1%3a3.5.12-1_amd64.deb ...\n",
      "Unpacking libxpm4:amd64 (1:3.5.12-1) ...\n",
      "Selecting previously unselected package libxaw7:amd64.\n",
      "Preparing to unpack .../118-libxaw7_2%3a1.0.13-1_amd64.deb ...\n",
      "Unpacking libxaw7:amd64 (2:1.0.13-1) ...\n",
      "\u001b7\u001b[24;0f\u001b[42m\u001b[30mProgress: [ 56%]\u001b[49m\u001b[39m [################################..........................] \u001b8Selecting previously unselected package libxcb-shape0:amd64.\n",
      "Preparing to unpack .../119-libxcb-shape0_1.13-2~ubuntu18.04_amd64.deb ...\n",
      "Unpacking libxcb-shape0:amd64 (1.13-2~ubuntu18.04) ...\n",
      "Selecting previously unselected package libxcursor1:amd64.\n",
      "Preparing to unpack .../120-libxcursor1_1%3a1.1.15-1_amd64.deb ...\n",
      "Unpacking libxcursor1:amd64 (1:1.1.15-1) ...\n",
      "\u001b7\u001b[24;0f\u001b[42m\u001b[30mProgress: [ 57%]\u001b[49m\u001b[39m [#################################.........................] \u001b8Selecting previously unselected package libxi6:amd64.\n",
      "Preparing to unpack .../121-libxi6_2%3a1.7.9-1_amd64.deb ...\n",
      "Unpacking libxi6:amd64 (2:1.7.9-1) ...\n",
      "Selecting previously unselected package libxml-xpathengine-perl.\n",
      "Preparing to unpack .../122-libxml-xpathengine-perl_0.14-1_all.deb ...\n",
      "Unpacking libxml-xpathengine-perl (0.14-1) ...\n",
      "\u001b7\u001b[24;0f\u001b[42m\u001b[30mProgress: [ 58%]\u001b[49m\u001b[39m [#################################.........................] \u001b8Selecting previously unselected package libxv1:amd64.\n",
      "Preparing to unpack .../123-libxv1_2%3a1.0.11-1_amd64.deb ...\n",
      "Unpacking libxv1:amd64 (2:1.0.11-1) ...\n",
      "Selecting previously unselected package x11-utils.\n",
      "Preparing to unpack .../124-x11-utils_7.7+3build1_amd64.deb ...\n",
      "Unpacking x11-utils (7.7+3build1) ...\n",
      "Selecting previously unselected package x11-xserver-utils.\n",
      "Preparing to unpack .../125-x11-xserver-utils_7.7+7build1_amd64.deb ...\n",
      "\u001b7\u001b[24;0f\u001b[42m\u001b[30mProgress: [ 59%]\u001b[49m\u001b[39m [##################################........................] \u001b8Unpacking x11-xserver-utils (7.7+7build1) ...\n",
      "Selecting previously unselected package libauthen-sasl-perl.\n",
      "Preparing to unpack .../126-libauthen-sasl-perl_2.1600-1_all.deb ...\n",
      "Unpacking libauthen-sasl-perl (2.1600-1) ...\n",
      "Setting up libhtml-tagset-perl (3.20-3) ...\n",
      "\u001b7\u001b[24;0f\u001b[42m\u001b[30mProgress: [ 60%]\u001b[49m\u001b[39m [##################################........................] \u001b8Setting up libxi6:amd64 (2:1.7.9-1) ...\n",
      "Setting up libxcb-present0:amd64 (1.13-2~ubuntu18.04) ...\n",
      "Setting up libglvnd0:amd64 (1.0.0-2ubuntu2.3) ...\n",
      "\u001b7\u001b[24;0f\u001b[42m\u001b[30mProgress: [ 61%]\u001b[49m\u001b[39m [###################################.......................] \u001b8Setting up libxinerama1:amd64 (2:1.1.3-1) ...\n",
      "Setting up libxcb-dri2-0:amd64 (1.13-2~ubuntu18.04) ...\n",
      "Setting up libxcb-dri3-0:amd64 (1.13-2~ubuntu18.04) ...\n",
      "\u001b7\u001b[24;0f\u001b[42m\u001b[30mProgress: [ 62%]\u001b[49m\u001b[39m [####################################......................] \u001b8Setting up libtry-tiny-perl (0.30-1) ...\n",
      "Setting up libxcb-glx0:amd64 (1.13-2~ubuntu18.04) ...\n",
      "Setting up libicu60:amd64 (60.2-3ubuntu3.2) ...\n",
      "\u001b7\u001b[24;0f\u001b[42m\u001b[30mProgress: [ 63%]\u001b[49m\u001b[39m [####################################......................] \u001b8Setting up libfont-afm-perl (1.20-2) ...\n",
      "Setting up libxcb-render0:amd64 (1.13-2~ubuntu18.04) ...\n",
      "Setting up libllvm10:amd64 (1:10.0.0-4ubuntu1~18.04.2) ...\n",
      "Setting up libxdamage1:amd64 (1:1.1.4-3) ...\n",
      "\u001b7\u001b[24;0f\u001b[42m\u001b[30mProgress: [ 64%]\u001b[49m\u001b[39m [#####################################.....................] \u001b8Setting up libxfixes3:amd64 (1:5.0.3-1) ...\n",
      "Setting up libencode-locale-perl (1.05-1) ...\n",
      "Setting up libtimedate-perl (2.3000-2) ...\n",
      "\u001b7\u001b[24;0f\u001b[42m\u001b[30mProgress: [ 65%]\u001b[49m\u001b[39m [#####################################.....................] \u001b8Setting up fonts-dejavu-core (2.37-1) ...\n",
      "Setting up perl-openssl-defaults:amd64 (3build1) ...\n",
      "Setting up libipc-system-simple-perl (1.25-4) ...\n",
      "\u001b7\u001b[24;0f\u001b[42m\u001b[30mProgress: [ 66%]\u001b[49m\u001b[39m [######################################....................] \u001b8Setting up libfile-basedir-perl (0.07-1) ...\n",
      "Setting up libelf1:amd64 (0.170-0.4ubuntu0.1) ...\n",
      "Setting up libatspi2.0-0:amd64 (2.28.0-1) ...\n",
      "\u001b7\u001b[24;0f\u001b[42m\u001b[30mProgress: [ 67%]\u001b[49m\u001b[39m [######################################....................] \u001b8Setting up libasound2-data (1.1.3-5ubuntu0.6) ...\n",
      "Setting up libxshmfence1:amd64 (1.3-1) ...\n",
      "Setting up libio-html-perl (1.001-1) ...\n",
      "\u001b7\u001b[24;0f\u001b[42m\u001b[30mProgress: [ 68%]\u001b[49m\u001b[39m [#######################################...................] \u001b8Setting up xkb-data (2.23.1-1ubuntu1.18.04.1) ...\n",
      "Setting up libtie-ixhash-perl (1.23-2) ...\n",
      "Setting up libdatrie1:amd64 (0.2.10-7) ...\n",
      "\u001b7\u001b[24;0f\u001b[42m\u001b[30mProgress: [ 69%]\u001b[49m\u001b[39m [########################################..................] \u001b8Setting up libglapi-mesa:amd64 (20.0.8-0ubuntu1~18.04.1) ...\n",
      "Setting up libnspr4:amd64 (2:4.18-1ubuntu1) ...\n",
      "Setting up ucf (3.0038) ...\n",
      "debconf: unable to initialize frontend: Dialog\n",
      "debconf: (No usable dialog-like program is installed, so the dialog based frontend cannot be used. at /usr/share/perl5/Debconf/FrontEnd/Dialog.pm line 76.)\n",
      "debconf: falling back to frontend: Readline\n",
      "Setting up libxml2:amd64 (2.9.4+dfsg1-6.1ubuntu1.4) ...\n",
      "\u001b7\u001b[24;0f\u001b[42m\u001b[30mProgress: [ 70%]\u001b[49m\u001b[39m [########################################..................] \u001b8Setting up libasound2:amd64 (1.1.3-5ubuntu0.6) ...\n",
      "Setting up libdrm-common (2.4.101-2~18.04.1) ...\n",
      "Setting up libxcb-sync1:amd64 (1.13-2~ubuntu18.04) ...\n",
      "\u001b7\u001b[24;0f\u001b[42m\u001b[30mProgress: [ 71%]\u001b[49m\u001b[39m [#########################################.................] \u001b8Setting up libatk1.0-data (2.28.1-1) ...\n",
      "Setting up libx11-xcb1:amd64 (2:1.6.4-3ubuntu0.4) ...\n",
      "Setting up libpixman-1-0:amd64 (0.34.0-2) ...\n",
      "\u001b7\u001b[24;0f\u001b[42m\u001b[30mProgress: [ 72%]\u001b[49m\u001b[39m [#########################################.................] \u001b8Setting up liblwp-mediatypes-perl (6.02-1) ...\n",
      "Setting up libxxf86dga1:amd64 (2:1.1.4-1) ...\n",
      "Setting up liburi-perl (1.73-1) ...\n",
      "\u001b7\u001b[24;0f\u001b[42m\u001b[30mProgress: [ 73%]\u001b[49m\u001b[39m [##########################################................] \u001b8Setting up chromium-codecs-ffmpeg-extra (99.0.4844.51-0ubuntu0.18.04.1) ...\n",
      "Setting up libatk1.0-0:amd64 (2.28.1-1) ...\n",
      "Setting up libtext-iconv-perl (1.7-5build6) ...\n",
      "\u001b7\u001b[24;0f\u001b[42m\u001b[30mProgress: [ 74%]\u001b[49m\u001b[39m [##########################################................] \u001b8Setting up libdata-dump-perl (1.23-1) ...\n",
      "Setting up libhtml-parser-perl (3.72-3build1) ...\n",
      "Setting up libatk-bridge2.0-0:amd64 (2.26.2-1) ...\n",
      "\u001b7\u001b[24;0f\u001b[42m\u001b[30mProgress: [ 75%]\u001b[49m\u001b[39m [###########################################...............] \u001b8Setting up libfontenc1:amd64 (1:1.1.3-1) ...\n",
      "Setting up libxcomposite1:amd64 (1:0.4.4-2) ...\n",
      "Setting up libxcb-shm0:amd64 (1.13-2~ubuntu18.04) ...\n",
      "Setting up libxpm4:amd64 (1:3.5.12-1) ...\n",
      "\u001b7\u001b[24;0f\u001b[42m\u001b[30mProgress: [ 76%]\u001b[49m\u001b[39m [############################################..............] \u001b8Setting up libxcb-shape0:amd64 (1.13-2~ubuntu18.04) ...\n",
      "Setting up libpciaccess0:amd64 (0.14-1) ...\n",
      "Setting up libxrender1:amd64 (1:0.9.10-1) ...\n",
      "\u001b7\u001b[24;0f\u001b[42m\u001b[30mProgress: [ 77%]\u001b[49m\u001b[39m [############################################..............] \u001b8Setting up libxv1:amd64 (2:1.0.11-1) ...\n",
      "Setting up libx11-protocol-perl (0.56-7) ...\n",
      "Setting up libxml-xpathengine-perl (0.14-1) ...\n",
      "\u001b7\u001b[24;0f\u001b[42m\u001b[30mProgress: [ 78%]\u001b[49m\u001b[39m [#############################################.............] \u001b8Setting up libsensors4:amd64 (1:3.4.0-4) ...\n",
      "Setting up libxkbcommon0:amd64 (0.8.2-1~ubuntu18.04.1) ...\n",
      "Setting up shared-mime-info (1.9-2) ...\n",
      "\u001b7\u001b[24;0f\u001b[42m\u001b[30mProgress: [ 79%]\u001b[49m\u001b[39m [#############################################.............] \u001b8Setting up libnet-http-perl (6.17-1) ...\n",
      "Setting up libthai-data (0.1.27-2) ...\n",
      "Setting up libxxf86vm1:amd64 (1:1.1.4-1) ...\n",
      "\u001b7\u001b[24;0f\u001b[42m\u001b[30mProgress: [ 80%]\u001b[49m\u001b[39m [##############################################............] \u001b8Setting up x11-common (1:7.7+19ubuntu7.1) ...\n",
      "debconf: unable to initialize frontend: Dialog\n",
      "debconf: (No usable dialog-like program is installed, so the dialog based frontend cannot be used. at /usr/share/perl5/Debconf/FrontEnd/Dialog.pm line 76.)\n",
      "debconf: falling back to frontend: Readline\n",
      "update-rc.d: warning: start and stop actions are no longer supported; falling back to defaults\n",
      "invoke-rc.d: could not determine current runlevel\n",
      "invoke-rc.d: policy-rc.d denied execution of start.\n",
      "Setting up xdg-utils (1.1.2-1ubuntu2.5) ...\n",
      "Setting up libwww-robotrules-perl (6.01-1) ...\n",
      "Setting up libauthen-sasl-perl (2.1600-1) ...\n",
      "\u001b7\u001b[24;0f\u001b[42m\u001b[30mProgress: [ 81%]\u001b[49m\u001b[39m [###############################################...........] \u001b8Setting up libxrandr2:amd64 (2:1.5.1-1) ...\n",
      "Setting up libavahi-common-data:amd64 (0.7-3.1ubuntu1.3) ...\n",
      "Setting up libwayland-server0:amd64 (1.16.0-1ubuntu1.1~18.04.3) ...\n",
      "\u001b7\u001b[24;0f\u001b[42m\u001b[30mProgress: [ 82%]\u001b[49m\u001b[39m [###############################################...........] \u001b8Setting up netbase (5.4) ...\n",
      "Setting up fontconfig-config (2.12.6-0ubuntu2) ...\n",
      "Setting up libhttp-date-perl (6.02-1) ...\n",
      "\u001b7\u001b[24;0f\u001b[42m\u001b[30mProgress: [ 83%]\u001b[49m\u001b[39m [################################################..........] \u001b8Setting up libnet-ssleay-perl (1.84-1ubuntu0.2) ...\n",
      "Setting up libnss3:amd64 (2:3.35-2ubuntu2.13) ...\n",
      "Setting up libthai0:amd64 (0.1.27-2) ...\n",
      "\u001b7\u001b[24;0f\u001b[42m\u001b[30mProgress: [ 84%]\u001b[49m\u001b[39m [################################################..........] \u001b8Setting up libio-socket-ssl-perl (2.060-3~ubuntu18.04.1) ...\n",
      "Setting up libhtml-tree-perl (5.07-1) ...\n",
      "Setting up libxtst6:amd64 (2:1.2.3-1) ...\n",
      "\u001b7\u001b[24;0f\u001b[42m\u001b[30mProgress: [ 85%]\u001b[49m\u001b[39m [#################################################.........] \u001b8Setting up libdrm2:amd64 (2.4.101-2~18.04.1) ...\n",
      "Setting up libdrm-intel1:amd64 (2.4.101-2~18.04.1) ...\n",
      "Setting up libxcursor1:amd64 (1:1.1.15-1) ...\n",
      "\u001b7\u001b[24;0f\u001b[42m\u001b[30mProgress: [ 86%]\u001b[49m\u001b[39m [#################################################.........] \u001b8Setting up libfile-desktopentry-perl (0.22-1) ...\n",
      "Setting up libice6:amd64 (2:1.0.9-2) ...\n",
      "Setting up libfile-listing-perl (6.04-1) ...\n",
      "Setting up libhttp-message-perl (6.14-1) ...\n",
      "\u001b7\u001b[24;0f\u001b[42m\u001b[30mProgress: [ 87%]\u001b[49m\u001b[39m [##################################################........] \u001b8Setting up libavahi-common3:amd64 (0.7-3.1ubuntu1.3) ...\n",
      "Setting up libdrm-radeon1:amd64 (2.4.101-2~18.04.1) ...\n",
      "Setting up libdrm-nouveau2:amd64 (2.4.101-2~18.04.1) ...\n",
      "\u001b7\u001b[24;0f\u001b[42m\u001b[30mProgress: [ 88%]\u001b[49m\u001b[39m [###################################################.......] \u001b8Setting up libfile-mimeinfo-perl (0.28-1) ...\n",
      "Setting up libhttp-negotiate-perl (6.00-2) ...\n",
      "Setting up libfontconfig1:amd64 (2.12.6-0ubuntu2) ...\n",
      "\u001b7\u001b[24;0f\u001b[42m\u001b[30mProgress: [ 89%]\u001b[49m\u001b[39m [###################################################.......] \u001b8Setting up libsm6:amd64 (2:1.2.2-1) ...\n",
      "Setting up libnet-smtp-ssl-perl (1.04-1) ...\n",
      "Setting up libhtml-format-perl (2.12-1) ...\n",
      "\u001b7\u001b[24;0f\u001b[42m\u001b[30mProgress: [ 90%]\u001b[49m\u001b[39m [####################################################......] \u001b8Setting up libdrm-amdgpu1:amd64 (2.4.101-2~18.04.1) ...\n",
      "Setting up libhttp-cookies-perl (6.04-1) ...\n",
      "Setting up at-spi2-core (2.28.0-1) ...\n",
      "\u001b7\u001b[24;0f\u001b[42m\u001b[30mProgress: [ 91%]\u001b[49m\u001b[39m [####################################################......] \u001b8Setting up libgbm1:amd64 (20.0.8-0ubuntu1~18.04.1) ...\n",
      "Setting up libgl1-mesa-dri:amd64 (20.0.8-0ubuntu1~18.04.1) ...\n",
      "Setting up libhttp-daemon-perl (6.01-1) ...\n",
      "Setting up libhtml-form-perl (6.03-1) ...\n",
      "\u001b7\u001b[24;0f\u001b[42m\u001b[30mProgress: [ 92%]\u001b[49m\u001b[39m [#####################################################.....] \u001b8Setting up libxt6:amd64 (1:1.1.5-1) ...\n",
      "Setting up libavahi-client3:amd64 (0.7-3.1ubuntu1.3) ...\n",
      "Setting up libxft2:amd64 (2.3.2-1) ...\n",
      "\u001b7\u001b[24;0f\u001b[42m\u001b[30mProgress: [ 93%]\u001b[49m\u001b[39m [#####################################################.....] \u001b8Setting up fontconfig (2.12.6-0ubuntu2) ...\n",
      "Regenerating fonts cache... done.\n",
      "Setting up libglx-mesa0:amd64 (20.0.8-0ubuntu1~18.04.1) ...\n",
      "Setting up libcups2:amd64 (2.2.7-1ubuntu2.8) ...\n",
      "\u001b7\u001b[24;0f\u001b[42m\u001b[30mProgress: [ 94%]\u001b[49m\u001b[39m [######################################################....] \u001b8Setting up libcairo2:amd64 (1.15.10-2ubuntu0.1) ...\n",
      "Setting up libmailtools-perl (2.18-1) ...\n",
      "Setting up libxmu6:amd64 (2:1.1.2-2) ...\n",
      "\u001b7\u001b[24;0f\u001b[42m\u001b[30mProgress: [ 95%]\u001b[49m\u001b[39m [#######################################################...] \u001b8Setting up libpango-1.0-0:amd64 (1.40.14-1ubuntu0.1) ...\n",
      "Setting up libglx0:amd64 (1.0.0-2ubuntu2.3) ...\n",
      "Setting up libxaw7:amd64 (2:1.0.13-1) ...\n",
      "\u001b7\u001b[24;0f\u001b[42m\u001b[30mProgress: [ 96%]\u001b[49m\u001b[39m [#######################################################...] \u001b8Setting up chromium-browser (99.0.4844.51-0ubuntu0.18.04.1) ...\n",
      "update-alternatives: using /usr/bin/chromium-browser to provide /usr/bin/x-www-browser (x-www-browser) in auto mode\n",
      "update-alternatives: using /usr/bin/chromium-browser to provide /usr/bin/gnome-www-browser (gnome-www-browser) in auto mode\n",
      "Setting up chromium-chromedriver (99.0.4844.51-0ubuntu0.18.04.1) ...\n",
      "Setting up chromium-browser-l10n (99.0.4844.51-0ubuntu0.18.04.1) ...\n",
      "\u001b7\u001b[24;0f\u001b[42m\u001b[30mProgress: [ 97%]\u001b[49m\u001b[39m [########################################################..] \u001b8Setting up libgl1:amd64 (1.0.0-2ubuntu2.3) ...\n",
      "Setting up x11-xserver-utils (7.7+7build1) ...\n",
      "Setting up x11-utils (7.7+3build1) ...\n",
      "Setting up libgl1-mesa-glx:amd64 (20.0.8-0ubuntu1~18.04.1) ...\n",
      "\u001b7\u001b[24;0f\u001b[42m\u001b[30mProgress: [ 98%]\u001b[49m\u001b[39m [########################################################..] \u001b8Setting up liblwp-protocol-https-perl (6.07-2) ...\n",
      "Setting up libwww-perl (6.31-1ubuntu0.1) ...\n",
      "Setting up libxml-parser-perl (2.44-2build3) ...\n",
      "\u001b7\u001b[24;0f\u001b[42m\u001b[30mProgress: [ 99%]\u001b[49m\u001b[39m [#########################################################.] \u001b8Setting up libxml-twig-perl (1:3.50-1) ...\n",
      "Setting up libnet-dbus-perl (1.1.0-4build2) ...\n",
      "Processing triggers for libc-bin (2.27-3ubuntu1) ...\n",
      "/sbin/ldconfig.real: /usr/lib/x86_64-linux-gnu/libcuda.so.1 is not a symbolic link\n",
      "\n",
      "Processing triggers for mime-support (3.60ubuntu1) ...\n",
      "\n",
      "\u001b7\u001b[0;24r\u001b8\u001b[1A\u001b[J"
     ]
    }
   ],
   "source": [
    "!apt install -y chromium-chromedriver"
   ]
  },
  {
   "cell_type": "code",
   "execution_count": 266,
   "metadata": {},
   "outputs": [],
   "source": [
    "import dataframe_image as dfi"
   ]
  },
  {
   "cell_type": "code",
   "execution_count": 269,
   "metadata": {},
   "outputs": [
    {
     "ename": "OSError",
     "evalue": "read past end of file",
     "output_type": "error",
     "traceback": [
      "\u001b[0;31m\u001b[0m",
      "\u001b[0;31mOSError\u001b[0mTraceback (most recent call last)",
      "\u001b[0;32m<ipython-input-269-415e44741a5d>\u001b[0m in \u001b[0;36m<module>\u001b[0;34m\u001b[0m\n\u001b[0;32m----> 1\u001b[0;31m \u001b[0mdfi\u001b[0m\u001b[0;34m.\u001b[0m\u001b[0mexport\u001b[0m\u001b[0;34m(\u001b[0m\u001b[0mtable\u001b[0m\u001b[0;34m,\u001b[0m \u001b[0;34m\"5_table.png\"\u001b[0m\u001b[0;34m)\u001b[0m\u001b[0;34m\u001b[0m\u001b[0;34m\u001b[0m\u001b[0m\n\u001b[0m",
      "\u001b[0;32m/usr/local/lib/python3.6/dist-packages/dataframe_image/_pandas_accessor.py\u001b[0m in \u001b[0;36mexport\u001b[0;34m(obj, filename, fontsize, max_rows, max_cols, table_conversion, chrome_path)\u001b[0m\n\u001b[1;32m     22\u001b[0m def export(obj, filename, fontsize=14, max_rows=None, max_cols=None, \n\u001b[1;32m     23\u001b[0m                table_conversion='chrome', chrome_path=None):\n\u001b[0;32m---> 24\u001b[0;31m         \u001b[0;32mreturn\u001b[0m \u001b[0m_export\u001b[0m\u001b[0;34m(\u001b[0m\u001b[0mobj\u001b[0m\u001b[0;34m,\u001b[0m \u001b[0mfilename\u001b[0m\u001b[0;34m,\u001b[0m \u001b[0mfontsize\u001b[0m\u001b[0;34m,\u001b[0m \u001b[0mmax_rows\u001b[0m\u001b[0;34m,\u001b[0m \u001b[0mmax_cols\u001b[0m\u001b[0;34m,\u001b[0m \u001b[0mtable_conversion\u001b[0m\u001b[0;34m,\u001b[0m \u001b[0mchrome_path\u001b[0m\u001b[0;34m)\u001b[0m\u001b[0;34m\u001b[0m\u001b[0;34m\u001b[0m\u001b[0m\n\u001b[0m\u001b[1;32m     25\u001b[0m \u001b[0;34m\u001b[0m\u001b[0m\n\u001b[1;32m     26\u001b[0m \u001b[0;34m\u001b[0m\u001b[0m\n",
      "\u001b[0;32m/usr/local/lib/python3.6/dist-packages/dataframe_image/_pandas_accessor.py\u001b[0m in \u001b[0;36m_export\u001b[0;34m(obj, filename, fontsize, max_rows, max_cols, table_conversion, chrome_path)\u001b[0m\n\u001b[1;32m     71\u001b[0m         \u001b[0mhtml\u001b[0m \u001b[0;34m=\u001b[0m \u001b[0mobj\u001b[0m\u001b[0;34m.\u001b[0m\u001b[0mto_html\u001b[0m\u001b[0;34m(\u001b[0m\u001b[0mmax_rows\u001b[0m\u001b[0;34m=\u001b[0m\u001b[0mmax_rows\u001b[0m\u001b[0;34m,\u001b[0m \u001b[0mmax_cols\u001b[0m\u001b[0;34m=\u001b[0m\u001b[0mmax_cols\u001b[0m\u001b[0;34m,\u001b[0m \u001b[0mnotebook\u001b[0m\u001b[0;34m=\u001b[0m\u001b[0;32mTrue\u001b[0m\u001b[0;34m)\u001b[0m\u001b[0;34m\u001b[0m\u001b[0;34m\u001b[0m\u001b[0m\n\u001b[1;32m     72\u001b[0m \u001b[0;34m\u001b[0m\u001b[0m\n\u001b[0;32m---> 73\u001b[0;31m     \u001b[0mimg_str\u001b[0m \u001b[0;34m=\u001b[0m \u001b[0mconverter\u001b[0m\u001b[0;34m(\u001b[0m\u001b[0mhtml\u001b[0m\u001b[0;34m)\u001b[0m\u001b[0;34m\u001b[0m\u001b[0;34m\u001b[0m\u001b[0m\n\u001b[0m\u001b[1;32m     74\u001b[0m \u001b[0;34m\u001b[0m\u001b[0m\n\u001b[1;32m     75\u001b[0m     \u001b[0;32mif\u001b[0m \u001b[0misinstance\u001b[0m\u001b[0;34m(\u001b[0m\u001b[0mfilename\u001b[0m\u001b[0;34m,\u001b[0m \u001b[0mstr\u001b[0m\u001b[0;34m)\u001b[0m\u001b[0;34m:\u001b[0m\u001b[0;34m\u001b[0m\u001b[0;34m\u001b[0m\u001b[0m\n",
      "\u001b[0;32m/usr/local/lib/python3.6/dist-packages/dataframe_image/_screenshot.py\u001b[0m in \u001b[0;36mrun\u001b[0;34m(self, html)\u001b[0m\n\u001b[1;32m    165\u001b[0m     \u001b[0;32mdef\u001b[0m \u001b[0mrun\u001b[0m\u001b[0;34m(\u001b[0m\u001b[0mself\u001b[0m\u001b[0;34m,\u001b[0m \u001b[0mhtml\u001b[0m\u001b[0;34m)\u001b[0m\u001b[0;34m:\u001b[0m\u001b[0;34m\u001b[0m\u001b[0;34m\u001b[0m\u001b[0m\n\u001b[1;32m    166\u001b[0m         \u001b[0mself\u001b[0m\u001b[0;34m.\u001b[0m\u001b[0mhtml\u001b[0m \u001b[0;34m=\u001b[0m \u001b[0mself\u001b[0m\u001b[0;34m.\u001b[0m\u001b[0mcss\u001b[0m \u001b[0;34m+\u001b[0m \u001b[0mhtml\u001b[0m\u001b[0;34m\u001b[0m\u001b[0;34m\u001b[0m\u001b[0m\n\u001b[0;32m--> 167\u001b[0;31m         \u001b[0mimg\u001b[0m \u001b[0;34m=\u001b[0m \u001b[0mself\u001b[0m\u001b[0;34m.\u001b[0m\u001b[0mtake_screenshot\u001b[0m\u001b[0;34m(\u001b[0m\u001b[0;34m)\u001b[0m\u001b[0;34m\u001b[0m\u001b[0;34m\u001b[0m\u001b[0m\n\u001b[0m\u001b[1;32m    168\u001b[0m         \u001b[0mimg_str\u001b[0m \u001b[0;34m=\u001b[0m \u001b[0mself\u001b[0m\u001b[0;34m.\u001b[0m\u001b[0mfinalize_image\u001b[0m\u001b[0;34m(\u001b[0m\u001b[0mimg\u001b[0m\u001b[0;34m)\u001b[0m\u001b[0;34m\u001b[0m\u001b[0;34m\u001b[0m\u001b[0m\n\u001b[1;32m    169\u001b[0m         \u001b[0;32mreturn\u001b[0m \u001b[0mimg_str\u001b[0m\u001b[0;34m\u001b[0m\u001b[0;34m\u001b[0m\u001b[0m\n",
      "\u001b[0;32m/usr/local/lib/python3.6/dist-packages/dataframe_image/_screenshot.py\u001b[0m in \u001b[0;36mtake_screenshot\u001b[0;34m(self)\u001b[0m\n\u001b[1;32m    117\u001b[0m \u001b[0;34m\u001b[0m\u001b[0m\n\u001b[1;32m    118\u001b[0m         \u001b[0mbuffer\u001b[0m \u001b[0;34m=\u001b[0m \u001b[0mio\u001b[0m\u001b[0;34m.\u001b[0m\u001b[0mBytesIO\u001b[0m\u001b[0;34m(\u001b[0m\u001b[0mimg_bytes\u001b[0m\u001b[0;34m)\u001b[0m\u001b[0;34m\u001b[0m\u001b[0;34m\u001b[0m\u001b[0m\n\u001b[0;32m--> 119\u001b[0;31m         \u001b[0mimg\u001b[0m \u001b[0;34m=\u001b[0m \u001b[0mmimage\u001b[0m\u001b[0;34m.\u001b[0m\u001b[0mimread\u001b[0m\u001b[0;34m(\u001b[0m\u001b[0mbuffer\u001b[0m\u001b[0;34m)\u001b[0m\u001b[0;34m\u001b[0m\u001b[0;34m\u001b[0m\u001b[0m\n\u001b[0m\u001b[1;32m    120\u001b[0m         \u001b[0;32mreturn\u001b[0m \u001b[0mself\u001b[0m\u001b[0;34m.\u001b[0m\u001b[0mpossibly_enlarge\u001b[0m\u001b[0;34m(\u001b[0m\u001b[0mimg\u001b[0m\u001b[0;34m)\u001b[0m\u001b[0;34m\u001b[0m\u001b[0;34m\u001b[0m\u001b[0m\n\u001b[1;32m    121\u001b[0m \u001b[0;34m\u001b[0m\u001b[0m\n",
      "\u001b[0;32m/usr/local/lib/python3.6/dist-packages/matplotlib/image.py\u001b[0m in \u001b[0;36mimread\u001b[0;34m(fname, format)\u001b[0m\n\u001b[1;32m   1434\u001b[0m                 \u001b[0;32mreturn\u001b[0m \u001b[0mhandler\u001b[0m\u001b[0;34m(\u001b[0m\u001b[0mfd\u001b[0m\u001b[0;34m)\u001b[0m\u001b[0;34m\u001b[0m\u001b[0;34m\u001b[0m\u001b[0m\n\u001b[1;32m   1435\u001b[0m     \u001b[0;32melse\u001b[0m\u001b[0;34m:\u001b[0m\u001b[0;34m\u001b[0m\u001b[0;34m\u001b[0m\u001b[0m\n\u001b[0;32m-> 1436\u001b[0;31m         \u001b[0;32mreturn\u001b[0m \u001b[0mhandler\u001b[0m\u001b[0;34m(\u001b[0m\u001b[0mfname\u001b[0m\u001b[0;34m)\u001b[0m\u001b[0;34m\u001b[0m\u001b[0;34m\u001b[0m\u001b[0m\n\u001b[0m\u001b[1;32m   1437\u001b[0m \u001b[0;34m\u001b[0m\u001b[0m\n\u001b[1;32m   1438\u001b[0m \u001b[0;34m\u001b[0m\u001b[0m\n",
      "\u001b[0;32m/usr/local/lib/python3.6/dist-packages/matplotlib/image.py\u001b[0m in \u001b[0;36mread_png\u001b[0;34m(*args, **kwargs)\u001b[0m\n\u001b[1;32m   1388\u001b[0m     \u001b[0;32mdef\u001b[0m \u001b[0mread_png\u001b[0m\u001b[0;34m(\u001b[0m\u001b[0;34m*\u001b[0m\u001b[0margs\u001b[0m\u001b[0;34m,\u001b[0m \u001b[0;34m**\u001b[0m\u001b[0mkwargs\u001b[0m\u001b[0;34m)\u001b[0m\u001b[0;34m:\u001b[0m\u001b[0;34m\u001b[0m\u001b[0;34m\u001b[0m\u001b[0m\n\u001b[1;32m   1389\u001b[0m         \u001b[0;32mfrom\u001b[0m \u001b[0mmatplotlib\u001b[0m \u001b[0;32mimport\u001b[0m \u001b[0m_png\u001b[0m\u001b[0;34m\u001b[0m\u001b[0;34m\u001b[0m\u001b[0m\n\u001b[0;32m-> 1390\u001b[0;31m         \u001b[0;32mreturn\u001b[0m \u001b[0m_png\u001b[0m\u001b[0;34m.\u001b[0m\u001b[0mread_png\u001b[0m\u001b[0;34m(\u001b[0m\u001b[0;34m*\u001b[0m\u001b[0margs\u001b[0m\u001b[0;34m,\u001b[0m \u001b[0;34m**\u001b[0m\u001b[0mkwargs\u001b[0m\u001b[0;34m)\u001b[0m\u001b[0;34m\u001b[0m\u001b[0;34m\u001b[0m\u001b[0m\n\u001b[0m\u001b[1;32m   1391\u001b[0m \u001b[0;34m\u001b[0m\u001b[0m\n\u001b[1;32m   1392\u001b[0m     \u001b[0mhandlers\u001b[0m \u001b[0;34m=\u001b[0m \u001b[0;34m{\u001b[0m\u001b[0;34m'png'\u001b[0m\u001b[0;34m:\u001b[0m \u001b[0mread_png\u001b[0m\u001b[0;34m,\u001b[0m \u001b[0;34m}\u001b[0m\u001b[0;34m\u001b[0m\u001b[0;34m\u001b[0m\u001b[0m\n",
      "\u001b[0;31mOSError\u001b[0m: read past end of file"
     ]
    }
   ],
   "source": [
    "dfi.export(table, \"./5_table.png\")"
   ]
  },
  {
   "cell_type": "markdown",
   "metadata": {},
   "source": [
    "### 계급수가 6일 때"
   ]
  },
  {
   "cell_type": "code",
   "execution_count": 232,
   "metadata": {},
   "outputs": [
    {
     "data": {
      "image/png": "[encoded data removed]",
      "text/plain": [
       "<Figure size 432x288 with 1 Axes>"
      ]
     },
     "metadata": {
      "needs_background": "light"
     },
     "output_type": "display_data"
    }
   ],
   "source": [
    "plt.hist(df['Age'], bins=np.arange(25, 60, 5), range=(df.min()[0], df.max()[0]+1), edgecolor='black', linewidth=1)\n",
    "plt.xticks(np.arange(25, 60, 5))\n",
    "plt.xlim(20, 60)\n",
    "plt.savefig(\"./6.png\")"
   ]
  },
  {
   "cell_type": "code",
   "execution_count": 233,
   "metadata": {},
   "outputs": [],
   "source": [
    "df = df.sort_values(by='Age', axis=0, ascending=True)"
   ]
  },
  {
   "cell_type": "code",
   "execution_count": 234,
   "metadata": {},
   "outputs": [],
   "source": [
    "bins = list(np.arange(25, 60, 5))"
   ]
  },
  {
   "cell_type": "code",
   "execution_count": 235,
   "metadata": {},
   "outputs": [],
   "source": [
    "labels = ['25~30', '30~35', '35~40', '40~45', '45~50', '50~55']"
   ]
  },
  {
   "cell_type": "code",
   "execution_count": 236,
   "metadata": {},
   "outputs": [],
   "source": [
    "hist = pd.DataFrame(pd.cut(df['Age'], bins=bins, right=False, labels=labels)).rename(columns={'Age' : '계급'})"
   ]
  },
  {
   "cell_type": "code",
   "execution_count": 237,
   "metadata": {},
   "outputs": [],
   "source": [
    "table_count = hist.value_counts(sort=False)"
   ]
  },
  {
   "cell_type": "code",
   "execution_count": 238,
   "metadata": {},
   "outputs": [],
   "source": [
    "table = table_count.rename_axis('계급').reset_index(name='도수')"
   ]
  },
  {
   "cell_type": "code",
   "execution_count": 239,
   "metadata": {},
   "outputs": [
    {
     "data": {
      "text/html": [
       "<style  type=\"text/css\" >\n",
       "</style><table id=\"T_4abbd67c_a2f2_11ec_b1ca_0242ac110002\" ><thead>    <tr>        <th class=\"col_heading level0 col0\" >계급</th>        <th class=\"col_heading level0 col1\" >도수</th>    </tr></thead><tbody>\n",
       "                <tr>\n",
       "                                <td id=\"T_4abbd67c_a2f2_11ec_b1ca_0242ac110002row0_col0\" class=\"data row0 col0\" >25~30</td>\n",
       "                        <td id=\"T_4abbd67c_a2f2_11ec_b1ca_0242ac110002row0_col1\" class=\"data row0 col1\" >5</td>\n",
       "            </tr>\n",
       "            <tr>\n",
       "                                <td id=\"T_4abbd67c_a2f2_11ec_b1ca_0242ac110002row1_col0\" class=\"data row1 col0\" >30~35</td>\n",
       "                        <td id=\"T_4abbd67c_a2f2_11ec_b1ca_0242ac110002row1_col1\" class=\"data row1 col1\" >4</td>\n",
       "            </tr>\n",
       "            <tr>\n",
       "                                <td id=\"T_4abbd67c_a2f2_11ec_b1ca_0242ac110002row2_col0\" class=\"data row2 col0\" >35~40</td>\n",
       "                        <td id=\"T_4abbd67c_a2f2_11ec_b1ca_0242ac110002row2_col1\" class=\"data row2 col1\" >9</td>\n",
       "            </tr>\n",
       "            <tr>\n",
       "                                <td id=\"T_4abbd67c_a2f2_11ec_b1ca_0242ac110002row3_col0\" class=\"data row3 col0\" >40~45</td>\n",
       "                        <td id=\"T_4abbd67c_a2f2_11ec_b1ca_0242ac110002row3_col1\" class=\"data row3 col1\" >10</td>\n",
       "            </tr>\n",
       "            <tr>\n",
       "                                <td id=\"T_4abbd67c_a2f2_11ec_b1ca_0242ac110002row4_col0\" class=\"data row4 col0\" >45~50</td>\n",
       "                        <td id=\"T_4abbd67c_a2f2_11ec_b1ca_0242ac110002row4_col1\" class=\"data row4 col1\" >7</td>\n",
       "            </tr>\n",
       "            <tr>\n",
       "                                <td id=\"T_4abbd67c_a2f2_11ec_b1ca_0242ac110002row5_col0\" class=\"data row5 col0\" >50~55</td>\n",
       "                        <td id=\"T_4abbd67c_a2f2_11ec_b1ca_0242ac110002row5_col1\" class=\"data row5 col1\" >5</td>\n",
       "            </tr>\n",
       "    </tbody></table>"
      ],
      "text/plain": [
       "<pandas.io.formats.style.Styler at 0x7fe28ab6a2b0>"
      ]
     },
     "execution_count": 239,
     "metadata": {},
     "output_type": "execute_result"
    }
   ],
   "source": [
    "table.style.hide_index()"
   ]
  },
  {
   "cell_type": "markdown",
   "metadata": {},
   "source": [
    "### 계급수가 7일 때"
   ]
  },
  {
   "cell_type": "code",
   "execution_count": 240,
   "metadata": {},
   "outputs": [
    {
     "data": {
      "image/png": "[encoded data removed]",
      "text/plain": [
       "<Figure size 432x288 with 1 Axes>"
      ]
     },
     "metadata": {
      "needs_background": "light"
     },
     "output_type": "display_data"
    }
   ],
   "source": [
    "plt.hist(df['Age'], bins=np.arange(25.5, 55, 4), range=(df.min()[0], df.max()[0]+1), edgecolor='black', linewidth=1)\n",
    "plt.xticks(np.arange(25.5, 55, 4))\n",
    "plt.xlim(20, 65)\n",
    "plt.savefig(\"./7.png\")"
   ]
  },
  {
   "cell_type": "code",
   "execution_count": 241,
   "metadata": {},
   "outputs": [],
   "source": [
    "df = df.sort_values(by='Age', axis=0, ascending=True)"
   ]
  },
  {
   "cell_type": "code",
   "execution_count": 242,
   "metadata": {},
   "outputs": [],
   "source": [
    "bins = list(np.arange(25.5, 55, 4))"
   ]
  },
  {
   "cell_type": "code",
   "execution_count": 243,
   "metadata": {},
   "outputs": [],
   "source": [
    "labels = ['25.5~29.5', '29.5~33.5', '33.5~37.5', '37.5~41.5', '41.5~45.5', '45.5~49.5', '49.5~53.5']"
   ]
  },
  {
   "cell_type": "code",
   "execution_count": 244,
   "metadata": {},
   "outputs": [],
   "source": [
    "hist = pd.DataFrame(pd.cut(df['Age'], bins=bins, right=False, labels=labels)).rename(columns={'Age' : '계급'})"
   ]
  },
  {
   "cell_type": "code",
   "execution_count": 245,
   "metadata": {},
   "outputs": [],
   "source": [
    "table_count = hist.value_counts(sort=False)"
   ]
  },
  {
   "cell_type": "code",
   "execution_count": 246,
   "metadata": {},
   "outputs": [],
   "source": [
    "table = table_count.rename_axis('계급').reset_index(name='도수')"
   ]
  },
  {
   "cell_type": "code",
   "execution_count": 247,
   "metadata": {},
   "outputs": [
    {
     "data": {
      "text/html": [
       "<style  type=\"text/css\" >\n",
       "</style><table id=\"T_4b4c7b1e_a2f2_11ec_b1ca_0242ac110002\" ><thead>    <tr>        <th class=\"col_heading level0 col0\" >계급</th>        <th class=\"col_heading level0 col1\" >도수</th>    </tr></thead><tbody>\n",
       "                <tr>\n",
       "                                <td id=\"T_4b4c7b1e_a2f2_11ec_b1ca_0242ac110002row0_col0\" class=\"data row0 col0\" >25.5~29.5</td>\n",
       "                        <td id=\"T_4b4c7b1e_a2f2_11ec_b1ca_0242ac110002row0_col1\" class=\"data row0 col1\" >5</td>\n",
       "            </tr>\n",
       "            <tr>\n",
       "                                <td id=\"T_4b4c7b1e_a2f2_11ec_b1ca_0242ac110002row1_col0\" class=\"data row1 col0\" >29.5~33.5</td>\n",
       "                        <td id=\"T_4b4c7b1e_a2f2_11ec_b1ca_0242ac110002row1_col1\" class=\"data row1 col1\" >4</td>\n",
       "            </tr>\n",
       "            <tr>\n",
       "                                <td id=\"T_4b4c7b1e_a2f2_11ec_b1ca_0242ac110002row2_col0\" class=\"data row2 col0\" >33.5~37.5</td>\n",
       "                        <td id=\"T_4b4c7b1e_a2f2_11ec_b1ca_0242ac110002row2_col1\" class=\"data row2 col1\" >5</td>\n",
       "            </tr>\n",
       "            <tr>\n",
       "                                <td id=\"T_4b4c7b1e_a2f2_11ec_b1ca_0242ac110002row3_col0\" class=\"data row3 col0\" >37.5~41.5</td>\n",
       "                        <td id=\"T_4b4c7b1e_a2f2_11ec_b1ca_0242ac110002row3_col1\" class=\"data row3 col1\" >12</td>\n",
       "            </tr>\n",
       "            <tr>\n",
       "                                <td id=\"T_4b4c7b1e_a2f2_11ec_b1ca_0242ac110002row4_col0\" class=\"data row4 col0\" >41.5~45.5</td>\n",
       "                        <td id=\"T_4b4c7b1e_a2f2_11ec_b1ca_0242ac110002row4_col1\" class=\"data row4 col1\" >3</td>\n",
       "            </tr>\n",
       "            <tr>\n",
       "                                <td id=\"T_4b4c7b1e_a2f2_11ec_b1ca_0242ac110002row5_col0\" class=\"data row5 col0\" >45.5~49.5</td>\n",
       "                        <td id=\"T_4b4c7b1e_a2f2_11ec_b1ca_0242ac110002row5_col1\" class=\"data row5 col1\" >6</td>\n",
       "            </tr>\n",
       "            <tr>\n",
       "                                <td id=\"T_4b4c7b1e_a2f2_11ec_b1ca_0242ac110002row6_col0\" class=\"data row6 col0\" >49.5~53.5</td>\n",
       "                        <td id=\"T_4b4c7b1e_a2f2_11ec_b1ca_0242ac110002row6_col1\" class=\"data row6 col1\" >5</td>\n",
       "            </tr>\n",
       "    </tbody></table>"
      ],
      "text/plain": [
       "<pandas.io.formats.style.Styler at 0x7fe28b04bac8>"
      ]
     },
     "execution_count": 247,
     "metadata": {},
     "output_type": "execute_result"
    }
   ],
   "source": [
    "table.style.hide_index()"
   ]
  },
  {
   "cell_type": "markdown",
   "metadata": {},
   "source": [
    "### 계급수가 8일 때"
   ]
  },
  {
   "cell_type": "code",
   "execution_count": 248,
   "metadata": {},
   "outputs": [
    {
     "data": {
      "image/png": "[encoded data removed]",
      "text/plain": [
       "<Figure size 432x288 with 1 Axes>"
      ]
     },
     "metadata": {
      "needs_background": "light"
     },
     "output_type": "display_data"
    }
   ],
   "source": [
    "plt.hist(df['Age'], bins=np.arange(25.5, 54, 3.5), range=(df.min()[0], df.max()[0]+1), edgecolor='black', linewidth=1)\n",
    "plt.xticks(np.arange(25.5, 54, 3.5))\n",
    "plt.xlim(20, 65)\n",
    "plt.savefig(\"./8.png\")"
   ]
  },
  {
   "cell_type": "code",
   "execution_count": 249,
   "metadata": {},
   "outputs": [],
   "source": [
    "df = df.sort_values(by='Age', axis=0, ascending=True)"
   ]
  },
  {
   "cell_type": "code",
   "execution_count": 250,
   "metadata": {},
   "outputs": [],
   "source": [
    "bins = list(np.arange(25.5, 54, 3.5))"
   ]
  },
  {
   "cell_type": "code",
   "execution_count": 251,
   "metadata": {},
   "outputs": [],
   "source": [
    "labels = ['25.5~29.0', '29.0~32.5', '32.5~36.0', '36.0~39.5', '39.5~43.0', '43.0~46.5', '46.5~50.0', '50.0~53.5']"
   ]
  },
  {
   "cell_type": "code",
   "execution_count": 252,
   "metadata": {},
   "outputs": [],
   "source": [
    "hist = pd.DataFrame(pd.cut(df['Age'], bins=bins, right=False, labels=labels)).rename(columns={'Age' : '계급'})"
   ]
  },
  {
   "cell_type": "code",
   "execution_count": 253,
   "metadata": {},
   "outputs": [],
   "source": [
    "table_count = hist.value_counts(sort=False)"
   ]
  },
  {
   "cell_type": "code",
   "execution_count": 254,
   "metadata": {},
   "outputs": [],
   "source": [
    "table = table_count.rename_axis('계급').reset_index(name='도수')"
   ]
  },
  {
   "cell_type": "code",
   "execution_count": 255,
   "metadata": {},
   "outputs": [
    {
     "data": {
      "text/html": [
       "<style  type=\"text/css\" >\n",
       "</style><table id=\"T_4ba993bc_a2f2_11ec_b1ca_0242ac110002\" ><thead>    <tr>        <th class=\"col_heading level0 col0\" >계급</th>        <th class=\"col_heading level0 col1\" >도수</th>    </tr></thead><tbody>\n",
       "                <tr>\n",
       "                                <td id=\"T_4ba993bc_a2f2_11ec_b1ca_0242ac110002row0_col0\" class=\"data row0 col0\" >25.5~29.0</td>\n",
       "                        <td id=\"T_4ba993bc_a2f2_11ec_b1ca_0242ac110002row0_col1\" class=\"data row0 col1\" >3</td>\n",
       "            </tr>\n",
       "            <tr>\n",
       "                                <td id=\"T_4ba993bc_a2f2_11ec_b1ca_0242ac110002row1_col0\" class=\"data row1 col0\" >29.0~32.5</td>\n",
       "                        <td id=\"T_4ba993bc_a2f2_11ec_b1ca_0242ac110002row1_col1\" class=\"data row1 col1\" >4</td>\n",
       "            </tr>\n",
       "            <tr>\n",
       "                                <td id=\"T_4ba993bc_a2f2_11ec_b1ca_0242ac110002row2_col0\" class=\"data row2 col0\" >32.5~36.0</td>\n",
       "                        <td id=\"T_4ba993bc_a2f2_11ec_b1ca_0242ac110002row2_col1\" class=\"data row2 col1\" >3</td>\n",
       "            </tr>\n",
       "            <tr>\n",
       "                                <td id=\"T_4ba993bc_a2f2_11ec_b1ca_0242ac110002row3_col0\" class=\"data row3 col0\" >36.0~39.5</td>\n",
       "                        <td id=\"T_4ba993bc_a2f2_11ec_b1ca_0242ac110002row3_col1\" class=\"data row3 col1\" >8</td>\n",
       "            </tr>\n",
       "            <tr>\n",
       "                                <td id=\"T_4ba993bc_a2f2_11ec_b1ca_0242ac110002row4_col0\" class=\"data row4 col0\" >39.5~43.0</td>\n",
       "                        <td id=\"T_4ba993bc_a2f2_11ec_b1ca_0242ac110002row4_col1\" class=\"data row4 col1\" >8</td>\n",
       "            </tr>\n",
       "            <tr>\n",
       "                                <td id=\"T_4ba993bc_a2f2_11ec_b1ca_0242ac110002row5_col0\" class=\"data row5 col0\" >43.0~46.5</td>\n",
       "                        <td id=\"T_4ba993bc_a2f2_11ec_b1ca_0242ac110002row5_col1\" class=\"data row5 col1\" >5</td>\n",
       "            </tr>\n",
       "            <tr>\n",
       "                                <td id=\"T_4ba993bc_a2f2_11ec_b1ca_0242ac110002row6_col0\" class=\"data row6 col0\" >46.5~50.0</td>\n",
       "                        <td id=\"T_4ba993bc_a2f2_11ec_b1ca_0242ac110002row6_col1\" class=\"data row6 col1\" >4</td>\n",
       "            </tr>\n",
       "            <tr>\n",
       "                                <td id=\"T_4ba993bc_a2f2_11ec_b1ca_0242ac110002row7_col0\" class=\"data row7 col0\" >50.0~53.5</td>\n",
       "                        <td id=\"T_4ba993bc_a2f2_11ec_b1ca_0242ac110002row7_col1\" class=\"data row7 col1\" >5</td>\n",
       "            </tr>\n",
       "    </tbody></table>"
      ],
      "text/plain": [
       "<pandas.io.formats.style.Styler at 0x7fe28ac5c128>"
      ]
     },
     "execution_count": 255,
     "metadata": {},
     "output_type": "execute_result"
    }
   ],
   "source": [
    "table.style.hide_index()"
   ]
  }
 ],
 "metadata": {
  "kernelspec": {
   "display_name": "Python 3",
   "language": "python",
   "name": "python3"
  },
  "language_info": {
   "codemirror_mode": {
    "name": "ipython",
    "version": 3
   },
   "file_extension": ".py",
   "mimetype": "text/x-python",
   "name": "python",
   "nbconvert_exporter": "python",
   "pygments_lexer": "ipython3",
   "version": "3.6.9"
  },
  "orig_nbformat": 4
 },
 "nbformat": 4,
 "nbformat_minor": 2
}
